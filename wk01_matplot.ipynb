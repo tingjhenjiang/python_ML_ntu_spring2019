{
 "cells": [
  {
   "cell_type": "code",
   "execution_count": null,
   "metadata": {},
   "outputs": [],
   "source": [
    "import numpy as np\n",
    "import pandas as pd\n",
    "import matplotlib.pyplot as plt\n",
    "!pip install pybaseball\n",
    "%matplotlib inline"
   ]
  },
  {
   "cell_type": "code",
   "execution_count": null,
   "metadata": {},
   "outputs": [],
   "source": [
    "from pybaseball import batting_stats_range\n",
    "mvps = ['Alex Rodriguez','Jimmy Rollins\t','Dustin Pedroia','Joe Mauer','Miguel Cabrera','Buster Posey','Andrew McCutchen','Josh Donaldson','Joey Votto']\n",
    "strjoin = \"-\"\n",
    "wholedata=pd.DataFrame()\n",
    "for yr in range(2008,2019):\n",
    "    begindate = strjoin.join((str(yr), \"01\", \"01\"))\n",
    "    enddate = strjoin.join((str(yr), \"12\", \"31\"))\n",
    "    oneyrdata = batting_stats_range(begindate, enddate)\n",
    "    oneyrdata = oneyrdata.assign(YEAR=yr)\n",
    "    oneyrdata = oneyrdata.loc[\n",
    "        oneyrdata['Name'].isin(mvps),\n",
    "        oneyrdata.columns.isin(['Name','Age','YEAR','OBP','SLG','OPS'])\n",
    "    ]\n",
    "    wholedata = wholedata.append(oneyrdata,ignore_index=True)"
   ]
  },
  {
   "cell_type": "code",
   "execution_count": null,
   "metadata": {},
   "outputs": [],
   "source": [
    "linecolors = ['b','g','r','c','m','y','k','#ff33cc','#cc9900']\n",
    "plt.figure(figsize=(20, 8))\n",
    "for mvpi in range(0,len(mvps)):\n",
    "    mvp=mvps[mvpi]\n",
    "    detailedmvpdf = wholedata.loc[wholedata['Name']==mvp]\n",
    "    dline_x = detailedmvpdf['Age']\n",
    "    dline_y = detailedmvpdf['OPS']\n",
    "    plt.plot(dline_x, dline_y, linecolors[mvpi], label=mvp, linewidth=1)\n",
    "legend = plt.legend(mvps)t"
   ]
  }
 ],
 "metadata": {
  "kernelspec": {
   "display_name": "Python 3",
   "language": "python",
   "name": "python3"
  },
  "language_info": {
   "codemirror_mode": {
    "name": "ipython",
    "version": 3
   },
   "file_extension": ".py",
   "mimetype": "text/x-python",
   "name": "python",
   "nbconvert_exporter": "python",
   "pygments_lexer": "ipython3",
   "version": "3.7.2"
  }
 },
 "nbformat": 4,
 "nbformat_minor": 2
}
