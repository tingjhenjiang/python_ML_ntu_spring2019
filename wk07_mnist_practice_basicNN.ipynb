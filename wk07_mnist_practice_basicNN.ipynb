{
  "nbformat": 4,
  "nbformat_minor": 0,
  "metadata": {
    "kernelspec": {
      "display_name": "Python 3",
      "language": "python",
      "name": "python3"
    },
    "language_info": {
      "codemirror_mode": {
        "name": "ipython",
        "version": 3
      },
      "file_extension": ".py",
      "mimetype": "text/x-python",
      "name": "python",
      "nbconvert_exporter": "python",
      "pygments_lexer": "ipython3",
      "version": "3.7.3"
    },
    "colab": {
      "name": "wk07_mnist_practice_basicNN.ipynb",
      "provenance": [],
      "include_colab_link": true
    },
    "accelerator": "GPU"
  },
  "cells": [
    {
      "cell_type": "markdown",
      "metadata": {
        "id": "view-in-github",
        "colab_type": "text"
      },
      "source": [
        "<a href=\"https://colab.research.google.com/github/tingjhenjiang/python_ML_ntu_spring2019/blob/master/wk07_mnist_practice_basicNN.ipynb\" target=\"_parent\"><img src=\"https://colab.research.google.com/assets/colab-badge.svg\" alt=\"Open In Colab\"/></a>"
      ]
    },
    {
      "cell_type": "markdown",
      "metadata": {
        "id": "WkEOCPm-INVk"
      },
      "source": [
        "# Keras"
      ]
    },
    {
      "cell_type": "code",
      "metadata": {
        "id": "lN2jgYrIIL5Z"
      },
      "source": [
        "%matplotlib inline\n",
        "\n",
        "import numpy as np\n",
        "import matplotlib.pyplot as plt"
      ],
      "execution_count": null,
      "outputs": []
    },
    {
      "cell_type": "code",
      "metadata": {
        "id": "2bXa5qpnIL5m"
      },
      "source": [
        "from keras.datasets import mnist\n",
        "from keras.utils import np_utils\n",
        "from keras.models import Sequential\n",
        "from keras.layers import Dense, Activation\n",
        "from keras.optimizers import SGD"
      ],
      "execution_count": null,
      "outputs": []
    },
    {
      "cell_type": "code",
      "metadata": {
        "id": "rEs7koA9IL5y"
      },
      "source": [
        "(x_train, y_train), (x_test, y_test) = mnist.load_data()\n",
        "x_train = x_train.reshape(60000, 784)\n",
        "x_train = (x_train-x_train.min())/(x_train.max()-x_train.min())\n",
        "x_test = x_test.reshape(10000, 784)\n",
        "x_test = (x_test-x_test.min())/(x_test.max() - x_test.min())\n",
        "y_train = np_utils.to_categorical(y_train, 10)\n",
        "y_test = np_utils.to_categorical(y_test, 10)\n",
        "model = Sequential()\n",
        "model.add(Dense(10, input_dim=784))\n",
        "model.add(Activation('relu'))\n",
        "model.add(Dense(10))\n",
        "model.add(Activation('relu'))\n",
        "model.add(Dense(10))\n",
        "model.add(Activation('relu'))\n",
        "model.add(Dense(10))\n",
        "model.add(Activation('relu'))\n",
        "model.add(Dense(10))\n",
        "model.add(Activation('relu'))\n",
        "model.add(Dense(10))\n",
        "model.add(Activation('relu'))\n",
        "model.add(Dense(10))\n",
        "model.add(Activation('relu'))\n",
        "model.add(Dense(10))\n",
        "model.add(Activation('relu'))\n",
        "model.add(Dense(10))\n",
        "model.add(Activation('relu'))\n",
        "model.add(Dense(10))\n",
        "model.add(Activation('relu'))\n",
        "model.add(Dense(10))\n",
        "model.add(Activation('relu'))\n",
        "model.add(Dense(10))\n",
        "model.add(Activation('softmax'))\n",
        "model.compile(loss='mse', optimizer=SGD(lr=0.087), metrics=['accuracy'])\n",
        "model.summary()"
      ],
      "execution_count": null,
      "outputs": []
    },
    {
      "cell_type": "code",
      "metadata": {
        "id": "LaL44Ly-IL54"
      },
      "source": [
        "x_train.shape"
      ],
      "execution_count": null,
      "outputs": []
    },
    {
      "cell_type": "code",
      "metadata": {
        "id": "C3HADXdAIL6C"
      },
      "source": [
        "x_test.shape"
      ],
      "execution_count": null,
      "outputs": []
    },
    {
      "cell_type": "code",
      "metadata": {
        "id": "KI3Ggu6cIL6I"
      },
      "source": [
        "model.fit(x_train, y_train, batch_size=100, epochs=100)"
      ],
      "execution_count": null,
      "outputs": []
    },
    {
      "cell_type": "markdown",
      "metadata": {
        "id": "LlYymaKwISaR"
      },
      "source": [
        "# Keras in Tensorflow 2.0"
      ]
    },
    {
      "cell_type": "code",
      "metadata": {
        "id": "deggmNsKIVBh",
        "outputId": "5f1220d7-937d-4618-c205-64a4815405e3",
        "colab": {
          "base_uri": "https://localhost:8080/",
          "height": 53
        }
      },
      "source": [
        "import tensorflow as tf\n",
        "import numpy as np\n",
        "import numpy as np\n",
        "import matplotlib.pyplot as plt\n",
        "\n",
        "\n",
        "from tensorflow.keras import datasets #mnist\n",
        "#from tensorflow.keras.utils import np_utils\n",
        "from tensorflow.keras import models #Sequential\n",
        "from tensorflow.keras import layers #Dense, Activation\n",
        "from tensorflow.keras import optimizers #SGD\n",
        "\n",
        "print(tf.__version__)\n",
        "print(tf.keras.__version__)"
      ],
      "execution_count": 1,
      "outputs": [
        {
          "output_type": "stream",
          "text": [
            "2.3.0\n",
            "2.4.0\n"
          ],
          "name": "stdout"
        }
      ]
    },
    {
      "cell_type": "code",
      "metadata": {
        "id": "C7iqVDinIY9c",
        "outputId": "6139fec6-d25a-463d-8532-e2bf31378de0",
        "colab": {
          "base_uri": "https://localhost:8080/",
          "height": 235
        }
      },
      "source": [
        "(x_train, y_train), (x_test, y_test) = tf.keras.datasets.mnist.load_data()\n",
        "\n",
        "def std_nparray(arr):\n",
        "    arr = (arr-arr.min())/(arr.max()-arr.min())\n",
        "    return(arr)\n",
        "\n",
        "def convert_for_softmax_output(arr):\n",
        "    return(tf.keras.utils.to_categorical(arr, num_classes=len(np.unique(arr)), dtype='float32'))\n",
        "\n",
        "x_train = x_train.reshape(-1,784) #x_train.reshape(60000, 784)\n",
        "x_train = std_nparray(x_train)\n",
        "x_test = x_test.reshape(-1, 784)\n",
        "x_test = std_nparray(x_test)\n",
        "y_train=convert_for_softmax_output(y_train)  #也可以不轉換，但下面要用sparse_categorical_crossentropy\n",
        "y_test=convert_for_softmax_output(y_test)\n",
        "x_val = x_train[-10000:]\n",
        "y_val = y_train[-10000:]\n",
        "\n",
        "print(x_train.shape)\n",
        "print(x_train.dtype)\n",
        "print(y_train)\n",
        "print(y_train.shape)"
      ],
      "execution_count": 2,
      "outputs": [
        {
          "output_type": "stream",
          "text": [
            "Downloading data from https://storage.googleapis.com/tensorflow/tf-keras-datasets/mnist.npz\n",
            "11493376/11490434 [==============================] - 0s 0us/step\n",
            "(60000, 784)\n",
            "float64\n",
            "[[0. 0. 0. ... 0. 0. 0.]\n",
            " [1. 0. 0. ... 0. 0. 0.]\n",
            " [0. 0. 0. ... 0. 0. 0.]\n",
            " ...\n",
            " [0. 0. 0. ... 0. 0. 0.]\n",
            " [0. 0. 0. ... 0. 0. 0.]\n",
            " [0. 0. 0. ... 0. 1. 0.]]\n",
            "(60000, 10)\n"
          ],
          "name": "stdout"
        }
      ]
    },
    {
      "cell_type": "code",
      "metadata": {
        "id": "oRzxjtdwEM5k",
        "outputId": "7ccce84a-8b62-45e4-caf6-25e8dde29f5d",
        "colab": {
          "base_uri": "https://localhost:8080/",
          "height": 644
        }
      },
      "source": [
        "model = tf.keras.Sequential()\n",
        "model.add(layers.Dense(64,activation='relu',input_shape=(784,)))\n",
        "model.add(layers.Dense(32,activation='relu',kernel_initializer=tf.keras.initializers.glorot_normal))\n",
        "model.add(layers.Dense(32,activation='relu',kernel_initializer=tf.keras.initializers.glorot_normal))\n",
        "model.add(layers.Dropout(.2))\n",
        "model.add(layers.Dense(10,activation='softmax'))\n",
        "model.compile(optimizer=tf.keras.optimizers.Adam(0.001),\n",
        "              loss='CategoricalCrossentropy', #沒有to_categorical時可以用sparse_categorical_crossentropy\n",
        "              metrics=['accuracy'],\n",
        "              )\n",
        "tf.keras.utils.plot_model(\n",
        "    model, show_shapes=True, show_layer_names=True,\n",
        "    rankdir='TB', expand_nested=False, dpi=96\n",
        ")"
      ],
      "execution_count": 5,
      "outputs": [
        {
          "output_type": "execute_result",
          "data": {
            "image/png": "[encoded data removed]",
            "text/plain": [
              "<IPython.core.display.Image object>"
            ]
          },
          "metadata": {
            "tags": []
          },
          "execution_count": 5
        }
      ]
    },
    {
      "cell_type": "code",
      "metadata": {
        "id": "mpErwpvYcmp7"
      },
      "source": [
        "history = model.fit(x_train, y_train, batch_size=256, epochs=100, validation_split=0.3, verbose=0, validation_data=(x_val, y_val))"
      ],
      "execution_count": 6,
      "outputs": []
    },
    {
      "cell_type": "code",
      "metadata": {
        "id": "0CX-FKqBc56d",
        "outputId": "2ccd22fb-563b-429c-ac5b-b2671068bdbe",
        "colab": {
          "base_uri": "https://localhost:8080/",
          "height": 1000
        }
      },
      "source": [
        "history.history"
      ],
      "execution_count": 7,
      "outputs": [
        {
          "output_type": "execute_result",
          "data": {
            "text/plain": [
              "{'accuracy': [0.7396904826164246,\n",
              "  0.9052143096923828,\n",
              "  0.9277856945991516,\n",
              "  0.9404523968696594,\n",
              "  0.9493571519851685,\n",
              "  0.9555952548980713,\n",
              "  0.9617142677307129,\n",
              "  0.9661666750907898,\n",
              "  0.9679523706436157,\n",
              "  0.9701666831970215,\n",
              "  0.9743333458900452,\n",
              "  0.9745237827301025,\n",
              "  0.9782381057739258,\n",
              "  0.9785952568054199,\n",
              "  0.9806666374206543,\n",
              "  0.9817857146263123,\n",
              "  0.9826904535293579,\n",
              "  0.9838809370994568,\n",
              "  0.9845714569091797,\n",
              "  0.9856666922569275,\n",
              "  0.9858571290969849,\n",
              "  0.9866190552711487,\n",
              "  0.9859047532081604,\n",
              "  0.9873095154762268,\n",
              "  0.9896666407585144,\n",
              "  0.9894523620605469,\n",
              "  0.9902142882347107,\n",
              "  0.991357147693634,\n",
              "  0.9910714030265808,\n",
              "  0.9914523959159851,\n",
              "  0.991523802280426,\n",
              "  0.9903095364570618,\n",
              "  0.993071436882019,\n",
              "  0.9908571243286133,\n",
              "  0.9933333396911621,\n",
              "  0.99314284324646,\n",
              "  0.9921190738677979,\n",
              "  0.993238091468811,\n",
              "  0.9943095445632935,\n",
              "  0.9944999814033508,\n",
              "  0.9942380785942078,\n",
              "  0.9948809742927551,\n",
              "  0.9940000176429749,\n",
              "  0.9950000047683716,\n",
              "  0.9949047565460205,\n",
              "  0.9951905012130737,\n",
              "  0.995023787021637,\n",
              "  0.9953571557998657,\n",
              "  0.9951428771018982,\n",
              "  0.9954285621643066,\n",
              "  0.9956428408622742,\n",
              "  0.9950714111328125,\n",
              "  0.9944523572921753,\n",
              "  0.9953809380531311,\n",
              "  0.9951666593551636,\n",
              "  0.9957380890846252,\n",
              "  0.9972142577171326,\n",
              "  0.9960238337516785,\n",
              "  0.9954285621643066,\n",
              "  0.9960952401161194,\n",
              "  0.9972380995750427,\n",
              "  0.9971428513526917,\n",
              "  0.9968809485435486,\n",
              "  0.9971904754638672,\n",
              "  0.9956666827201843,\n",
              "  0.9970476031303406,\n",
              "  0.9960952401161194,\n",
              "  0.9962618947029114,\n",
              "  0.9971190690994263,\n",
              "  0.9968095421791077,\n",
              "  0.9971428513526917,\n",
              "  0.9975000023841858,\n",
              "  0.9966904520988464,\n",
              "  0.9975952506065369,\n",
              "  0.9979285597801208,\n",
              "  0.9979047775268555,\n",
              "  0.9975952506065369,\n",
              "  0.9958809614181519,\n",
              "  0.9959762096405029,\n",
              "  0.9975237846374512,\n",
              "  0.9977381229400635,\n",
              "  0.9980238080024719,\n",
              "  0.9977381229400635,\n",
              "  0.998285710811615,\n",
              "  0.9983809590339661,\n",
              "  0.9968095421791077,\n",
              "  0.9969523549079895,\n",
              "  0.996999979019165,\n",
              "  0.9981904625892639,\n",
              "  0.9974285960197449,\n",
              "  0.9982143044471741,\n",
              "  0.9980952143669128,\n",
              "  0.9980714321136475,\n",
              "  0.9976904988288879,\n",
              "  0.9966190457344055,\n",
              "  0.9978571534156799,\n",
              "  0.9978571534156799,\n",
              "  0.9973095059394836,\n",
              "  0.998119056224823,\n",
              "  0.9974285960197449],\n",
              " 'loss': [0.8366851806640625,\n",
              "  0.3391674757003784,\n",
              "  0.2577438950538635,\n",
              "  0.2093678116798401,\n",
              "  0.1787966787815094,\n",
              "  0.1565745323896408,\n",
              "  0.13503789901733398,\n",
              "  0.118274986743927,\n",
              "  0.10840291529893875,\n",
              "  0.10331034660339355,\n",
              "  0.09010442346334457,\n",
              "  0.08625420182943344,\n",
              "  0.07571827620267868,\n",
              "  0.07147932797670364,\n",
              "  0.06695645302534103,\n",
              "  0.06258333474397659,\n",
              "  0.058182574808597565,\n",
              "  0.05413214489817619,\n",
              "  0.050567977130413055,\n",
              "  0.04626096412539482,\n",
              "  0.04624927416443825,\n",
              "  0.044140949845314026,\n",
              "  0.04461255669593811,\n",
              "  0.04061682149767876,\n",
              "  0.034946899861097336,\n",
              "  0.03375479578971863,\n",
              "  0.030768917873501778,\n",
              "  0.027723824605345726,\n",
              "  0.02854693867266178,\n",
              "  0.026918655261397362,\n",
              "  0.02585574798285961,\n",
              "  0.02899731695652008,\n",
              "  0.022961091250181198,\n",
              "  0.027762755751609802,\n",
              "  0.021131500601768494,\n",
              "  0.020337117835879326,\n",
              "  0.024903366342186928,\n",
              "  0.020319471135735512,\n",
              "  0.017884913831949234,\n",
              "  0.017448538914322853,\n",
              "  0.01805167645215988,\n",
              "  0.015601175837218761,\n",
              "  0.016834327951073647,\n",
              "  0.015532759949564934,\n",
              "  0.015145265497267246,\n",
              "  0.01428865548223257,\n",
              "  0.014485388062894344,\n",
              "  0.013869412243366241,\n",
              "  0.014518174342811108,\n",
              "  0.013824361376464367,\n",
              "  0.013453898020088673,\n",
              "  0.013268303126096725,\n",
              "  0.016881953924894333,\n",
              "  0.01432269997894764,\n",
              "  0.01495477743446827,\n",
              "  0.011679106391966343,\n",
              "  0.008753080852329731,\n",
              "  0.012254264205694199,\n",
              "  0.012691246345639229,\n",
              "  0.010854830034077168,\n",
              "  0.008362934924662113,\n",
              "  0.009280881844460964,\n",
              "  0.009450037963688374,\n",
              "  0.008160208351910114,\n",
              "  0.012466756626963615,\n",
              "  0.009596100077033043,\n",
              "  0.012175371870398521,\n",
              "  0.011131588369607925,\n",
              "  0.008610556833446026,\n",
              "  0.009686574339866638,\n",
              "  0.008465133607387543,\n",
              "  0.007462994661182165,\n",
              "  0.01027713157236576,\n",
              "  0.007323827128857374,\n",
              "  0.006746590603142977,\n",
              "  0.00667145848274231,\n",
              "  0.008020984940230846,\n",
              "  0.011670859530568123,\n",
              "  0.013348763808608055,\n",
              "  0.008039241656661034,\n",
              "  0.007207694463431835,\n",
              "  0.006936564110219479,\n",
              "  0.007034760434180498,\n",
              "  0.0054306406527757645,\n",
              "  0.005253898911178112,\n",
              "  0.009582264348864555,\n",
              "  0.008541205897927284,\n",
              "  0.009714745916426182,\n",
              "  0.006185017991811037,\n",
              "  0.007238289341330528,\n",
              "  0.005706922151148319,\n",
              "  0.00561316916719079,\n",
              "  0.005853709764778614,\n",
              "  0.0069218226708471775,\n",
              "  0.010083899833261967,\n",
              "  0.00745198642835021,\n",
              "  0.007360554300248623,\n",
              "  0.0076528275385499,\n",
              "  0.005762207321822643,\n",
              "  0.007754472084343433],\n",
              " 'val_accuracy': [0.9133333563804626,\n",
              "  0.9352222084999084,\n",
              "  0.9471666812896729,\n",
              "  0.9521111249923706,\n",
              "  0.9567777514457703,\n",
              "  0.960444450378418,\n",
              "  0.9601666927337646,\n",
              "  0.9626666903495789,\n",
              "  0.9629444479942322,\n",
              "  0.9631666541099548,\n",
              "  0.964388906955719,\n",
              "  0.9650555849075317,\n",
              "  0.9659444689750671,\n",
              "  0.9629999995231628,\n",
              "  0.9672777652740479,\n",
              "  0.967555582523346,\n",
              "  0.9677222371101379,\n",
              "  0.9685555696487427,\n",
              "  0.9679444432258606,\n",
              "  0.9673333168029785,\n",
              "  0.9668889045715332,\n",
              "  0.9668333530426025,\n",
              "  0.9681666493415833,\n",
              "  0.9670000076293945,\n",
              "  0.9689444303512573,\n",
              "  0.9679444432258606,\n",
              "  0.9679444432258606,\n",
              "  0.9694444537162781,\n",
              "  0.9680555462837219,\n",
              "  0.9682222008705139,\n",
              "  0.9684444665908813,\n",
              "  0.9700555801391602,\n",
              "  0.9702777862548828,\n",
              "  0.964722216129303,\n",
              "  0.9680555462837219,\n",
              "  0.9670555591583252,\n",
              "  0.9678333401679993,\n",
              "  0.9685555696487427,\n",
              "  0.9685555696487427,\n",
              "  0.9673333168029785,\n",
              "  0.9683889150619507,\n",
              "  0.969944417476654,\n",
              "  0.9688888788223267,\n",
              "  0.9683889150619507,\n",
              "  0.9672777652740479,\n",
              "  0.9684444665908813,\n",
              "  0.9680555462837219,\n",
              "  0.9662222266197205,\n",
              "  0.9666110873222351,\n",
              "  0.968833327293396,\n",
              "  0.9667222499847412,\n",
              "  0.9681110978126526,\n",
              "  0.9683889150619507,\n",
              "  0.9680555462837219,\n",
              "  0.9655555486679077,\n",
              "  0.9689444303512573,\n",
              "  0.9686111211776733,\n",
              "  0.9681666493415833,\n",
              "  0.9653888940811157,\n",
              "  0.9682222008705139,\n",
              "  0.9692222476005554,\n",
              "  0.9694444537162781,\n",
              "  0.9682777523994446,\n",
              "  0.9674999713897705,\n",
              "  0.9651111364364624,\n",
              "  0.9696111083030701,\n",
              "  0.9637222290039062,\n",
              "  0.9693333506584167,\n",
              "  0.9669444561004639,\n",
              "  0.9686111211776733,\n",
              "  0.967555582523346,\n",
              "  0.9679444432258606,\n",
              "  0.9693333506584167,\n",
              "  0.9688888788223267,\n",
              "  0.9693889021873474,\n",
              "  0.9673888683319092,\n",
              "  0.9681110978126526,\n",
              "  0.9677777886390686,\n",
              "  0.9682777523994446,\n",
              "  0.9681666493415833,\n",
              "  0.968833327293396,\n",
              "  0.967555582523346,\n",
              "  0.9690555334091187,\n",
              "  0.9681666493415833,\n",
              "  0.9682222008705139,\n",
              "  0.9671666622161865,\n",
              "  0.9653888940811157,\n",
              "  0.9690555334091187,\n",
              "  0.9677222371101379,\n",
              "  0.9691666960716248,\n",
              "  0.9683333039283752,\n",
              "  0.9687222242355347,\n",
              "  0.9676666855812073,\n",
              "  0.9642778038978577,\n",
              "  0.9683889150619507,\n",
              "  0.9668333530426025,\n",
              "  0.9678333401679993,\n",
              "  0.968999981880188,\n",
              "  0.9681666493415833,\n",
              "  0.9647777676582336],\n",
              " 'val_loss': [0.31321877241134644,\n",
              "  0.22062529623508453,\n",
              "  0.1800777018070221,\n",
              "  0.1631821095943451,\n",
              "  0.15216493606567383,\n",
              "  0.13361243903636932,\n",
              "  0.1340765506029129,\n",
              "  0.12760774791240692,\n",
              "  0.1271296590566635,\n",
              "  0.12500381469726562,\n",
              "  0.12824063003063202,\n",
              "  0.12387511134147644,\n",
              "  0.1246209442615509,\n",
              "  0.13629727065563202,\n",
              "  0.1214326024055481,\n",
              "  0.1243891492486,\n",
              "  0.12156462669372559,\n",
              "  0.12585850059986115,\n",
              "  0.1315879374742508,\n",
              "  0.1314992755651474,\n",
              "  0.13044266402721405,\n",
              "  0.13898445665836334,\n",
              "  0.13221274316310883,\n",
              "  0.1339661180973053,\n",
              "  0.13478921353816986,\n",
              "  0.1355280727148056,\n",
              "  0.13826237618923187,\n",
              "  0.1364785134792328,\n",
              "  0.1511686146259308,\n",
              "  0.1454738974571228,\n",
              "  0.15365593135356903,\n",
              "  0.14145343005657196,\n",
              "  0.15649102628231049,\n",
              "  0.18089881539344788,\n",
              "  0.1572786569595337,\n",
              "  0.16731299459934235,\n",
              "  0.15872274339199066,\n",
              "  0.16110751032829285,\n",
              "  0.1665288507938385,\n",
              "  0.17708107829093933,\n",
              "  0.17165733873844147,\n",
              "  0.17286741733551025,\n",
              "  0.17259453237056732,\n",
              "  0.1755209118127823,\n",
              "  0.18788659572601318,\n",
              "  0.1793680489063263,\n",
              "  0.18102431297302246,\n",
              "  0.20068825781345367,\n",
              "  0.2080993801355362,\n",
              "  0.18352340161800385,\n",
              "  0.19993077218532562,\n",
              "  0.20006249845027924,\n",
              "  0.19842571020126343,\n",
              "  0.19879919290542603,\n",
              "  0.228668212890625,\n",
              "  0.2112404853105545,\n",
              "  0.21592725813388824,\n",
              "  0.22180578112602234,\n",
              "  0.2170914113521576,\n",
              "  0.21128787100315094,\n",
              "  0.21470963954925537,\n",
              "  0.22055302560329437,\n",
              "  0.21861235797405243,\n",
              "  0.23923325538635254,\n",
              "  0.2493574470281601,\n",
              "  0.22278594970703125,\n",
              "  0.24249053001403809,\n",
              "  0.22365066409111023,\n",
              "  0.24502170085906982,\n",
              "  0.22840933501720428,\n",
              "  0.22920675575733185,\n",
              "  0.2361486852169037,\n",
              "  0.23154324293136597,\n",
              "  0.2341213971376419,\n",
              "  0.22950439155101776,\n",
              "  0.2512166202068329,\n",
              "  0.2620476484298706,\n",
              "  0.26033762097358704,\n",
              "  0.2397083342075348,\n",
              "  0.24131876230239868,\n",
              "  0.2537907660007477,\n",
              "  0.2531260550022125,\n",
              "  0.23702815175056458,\n",
              "  0.24639010429382324,\n",
              "  0.24848106503486633,\n",
              "  0.2548270523548126,\n",
              "  0.2718362808227539,\n",
              "  0.23990198969841003,\n",
              "  0.2762491703033447,\n",
              "  0.26943346858024597,\n",
              "  0.2742214500904083,\n",
              "  0.27460017800331116,\n",
              "  0.263843834400177,\n",
              "  0.30133578181266785,\n",
              "  0.2549285590648651,\n",
              "  0.2752717435359955,\n",
              "  0.2605348825454712,\n",
              "  0.2719767689704895,\n",
              "  0.2538309097290039,\n",
              "  0.3073309063911438]}"
            ]
          },
          "metadata": {
            "tags": []
          },
          "execution_count": 7
        }
      ]
    },
    {
      "cell_type": "code",
      "metadata": {
        "id": "kicf24WAgEAe",
        "outputId": "cafd146f-6a4c-48c1-e128-dd265b54ca57",
        "colab": {
          "base_uri": "https://localhost:8080/",
          "height": 108
        }
      },
      "source": [
        "print(\"Evaluate on test data\")\n",
        "results = model.evaluate(x_test, y_test, batch_size=128)\n",
        "print(\"test loss, test acc:\", results)\n",
        "print(\"Generate predictions for 3 samples\")\n",
        "predictions = model.predict(x_test[:3])\n",
        "print(\"predictions shape:\", predictions.shape)\n",
        "#no dropout test loss, test acc: [0.13936419785022736, 0.9725000262260437]"
      ],
      "execution_count": 8,
      "outputs": [
        {
          "output_type": "stream",
          "text": [
            "Evaluate on test data\n",
            "79/79 [==============================] - 0s 3ms/step - loss: 0.2565 - accuracy: 0.9692\n",
            "test loss, test acc: [0.2565285265445709, 0.9692000150680542]\n",
            "Generate predictions for 3 samples\n",
            "predictions shape: (3, 10)\n"
          ],
          "name": "stdout"
        }
      ]
    },
    {
      "cell_type": "code",
      "metadata": {
        "id": "55L2Dun3jSKU",
        "outputId": "6a579a01-c7cc-4f60-9662-109dd6439e7e",
        "colab": {
          "base_uri": "https://localhost:8080/",
          "height": 573
        }
      },
      "source": [
        "# summarize history for accuracy\n",
        "plt.plot(history.history['accuracy'])\n",
        "plt.plot(history.history['val_accuracy'])\n",
        "plt.title('model accuracy')\n",
        "plt.ylabel('accuracy')\n",
        "plt.xlabel('epoch')\n",
        "plt.legend(['train', 'test'], loc='upper left')\n",
        "plt.show()\n",
        "# summarize history for loss\n",
        "plt.plot(history.history['loss'])\n",
        "plt.plot(history.history['val_loss'])\n",
        "plt.title('model loss')\n",
        "plt.ylabel('loss')\n",
        "plt.xlabel('epoch')\n",
        "plt.legend(['train', 'test'], loc='upper left')\n",
        "plt.show()"
      ],
      "execution_count": 9,
      "outputs": [
        {
          "output_type": "display_data",
          "data": {
            "image/png": "[encoded data removed]",
            "text/plain": [
              "<Figure size 432x288 with 1 Axes>"
            ]
          },
          "metadata": {
            "tags": [],
            "needs_background": "light"
          }
        },
        {
          "output_type": "display_data",
          "data": {
            "image/png": "[encoded data removed]",
            "text/plain": [
              "<Figure size 432x288 with 1 Axes>"
            ]
          },
          "metadata": {
            "tags": [],
            "needs_background": "light"
          }
        }
      ]
    }
  ]
}