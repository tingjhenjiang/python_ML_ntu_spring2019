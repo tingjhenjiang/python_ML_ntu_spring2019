{
 "cells": [
  {
   "cell_type": "code",
   "execution_count": 132,
   "metadata": {},
   "outputs": [
    {
     "name": "stdout",
     "output_type": "stream",
     "text": [
      "                X              Y\n",
      "0    6.000000e+00   1.102916e+03\n",
      "0    1.273610e+04   6.488319e+08\n",
      "0   -7.427067e+04   2.206453e+10\n",
      "0    4.007894e+05   6.425285e+11\n",
      "0   -1.993858e+06   1.590188e+13\n",
      "0    9.930959e+06   3.944958e+14\n",
      "0   -4.967823e+07   9.871706e+15\n",
      "0    2.484103e+08   2.468307e+17\n",
      "0   -1.242028e+09   6.170534e+18\n",
      "0    6.210095e+09   1.542611e+20\n",
      "0   -3.105049e+10   3.856533e+21\n",
      "0    1.552524e+11   9.641329e+22\n",
      "0   -7.762622e+11   2.410332e+24\n",
      "0    3.881311e+12   6.025830e+25\n",
      "0   -1.940655e+13   1.506457e+27\n",
      "0    9.703277e+13   3.766144e+28\n",
      "0   -4.851639e+14   9.415359e+29\n",
      "0    2.425819e+15   2.353840e+31\n",
      "0   -1.212910e+16   5.884599e+32\n",
      "0    6.064548e+16   1.471150e+34\n",
      "0   -3.032274e+17   3.677875e+35\n",
      "0    1.516137e+18   9.194687e+36\n",
      "0   -7.580685e+18   2.298672e+38\n",
      "0    3.790343e+19   5.746679e+39\n",
      "0   -1.895171e+20   1.436670e+41\n",
      "0    9.475857e+20   3.591674e+42\n",
      "0   -4.737928e+21   8.979186e+43\n",
      "0    2.368964e+22   2.244797e+45\n",
      "0   -1.184482e+23   5.611991e+46\n",
      "0    5.922410e+23   1.402998e+48\n",
      "..            ...            ...\n",
      "0  -3.241822e+133  4.203764e+267\n",
      "0   1.620911e+134  1.050941e+269\n",
      "0  -8.104555e+134  2.627353e+270\n",
      "0   4.052278e+135  6.568382e+271\n",
      "0  -2.026139e+136  1.642095e+273\n",
      "0   1.013069e+137  4.105239e+274\n",
      "0  -5.065347e+137  1.026310e+276\n",
      "0   2.532674e+138  2.565774e+277\n",
      "0  -1.266337e+139  6.414435e+278\n",
      "0   6.331684e+139  1.603609e+280\n",
      "0  -3.165842e+140  4.009022e+281\n",
      "0   1.582921e+141  1.002256e+283\n",
      "0  -7.914605e+141  2.505639e+284\n",
      "0   3.957302e+142  6.264097e+285\n",
      "0  -1.978651e+143  1.566024e+287\n",
      "0   9.893256e+143  3.915061e+288\n",
      "0  -4.946628e+144  9.787652e+289\n",
      "0   2.473314e+145  2.446913e+291\n",
      "0  -1.236657e+146  6.117282e+292\n",
      "0   6.183285e+146  1.529321e+294\n",
      "0  -3.091643e+147  3.823301e+295\n",
      "0   1.545821e+148  9.558253e+296\n",
      "0  -7.729106e+148  2.389563e+298\n",
      "0   3.864553e+149  5.973908e+299\n",
      "0  -1.932277e+150  1.493477e+301\n",
      "0   9.661383e+150  3.733693e+302\n",
      "0  -4.830691e+151  9.334232e+303\n",
      "0   2.415346e+152  2.333558e+305\n",
      "0  -1.207673e+153  5.833895e+306\n",
      "0   6.038364e+153  1.458474e+308\n",
      "\n",
      "[216 rows x 2 columns]\n"
     ]
    },
    {
     "name": "stderr",
     "output_type": "stream",
     "text": [
      "<string>:2: RuntimeWarning: overflow encountered in double_scalars\n"
     ]
    },
    {
     "data": {
      "image/png": "[encoded data removed]",
      "text/plain": [
       "<Figure size 432x288 with 1 Axes>"
      ]
     },
     "metadata": {
      "needs_background": "light"
     },
     "output_type": "display_data"
    }
   ],
   "source": [
    "%matplotlib inline\n",
    "import random\n",
    "from sympy import diff, Symbol, sin, cos, limit\n",
    "from sympy.utilities.lambdify import lambdify, implemented_function\n",
    "import matplotlib.pyplot as plt\n",
    "from ipywidgets import interact\n",
    "\n",
    "#定義loss function 及 loss function的微分，以及 learning rate\n",
    "x = Symbol('x')\n",
    "loss_function_expr = 4*x**2+1000*sin(60*x)\n",
    "loss_function_exec = lambdify((x), loss_function_expr)\n",
    "diff_lossfunc_to_x_expr = diff(loss_function_expr)\n",
    "diff_lossfunc_to_x_exec = lambdify((x), diff_lossfunc_to_x_expr)\n",
    "learning_rate = 0.75\n",
    "\n",
    "#定義產生下一個隨機點的函數\n",
    "def generate_next_random_point(startx, diff_lossfunction = diff_lossfunc_to_x_exec, learning_rate = learning_rate):\n",
    "    slope = diff_lossfunction(startx)\n",
    "    next_point = startx-learning_rate*slope\n",
    "    return(next_point)\n",
    "\n",
    "x=np.linspace(-45,45)\n",
    "plt.plot(x, loss_function_exec(x))\n",
    "#隨機開始起始點\n",
    "random_start = random_start_x = random.randint(-45,45)\n",
    "tmp_y_from_random_start = tmp_y_from_random_start_y = loss_function_exec(random_start)\n",
    "df = pd.DataFrame([[random_start, tmp_y_from_random_start]], columns=list('XY'))\n",
    "\n",
    "#慢慢移動到最小值，移動300次\n",
    "for i in range(234):\n",
    "    result = generate_next_random_point(random_start_x,diff_lossfunc_to_x_exec,learning_rate)\n",
    "    result_y_from_x = loss_function_exec(result)\n",
    "    df2 = pd.DataFrame([[result, result_y_from_x]], columns=list('XY'))\n",
    "    df = df.append(df2)\n",
    "    random_start_x = result\n",
    "\n",
    "#df = df.replace([np.inf, -np.inf], np.nan)\n",
    "df.replace([np.inf, -np.inf], np.nan).dropna(axis=1)\n",
    "df = df[np.isfinite(df).all(1)]\n",
    "\n",
    "#interact描繪梯度遞減過程\n",
    "def gra_dec_draw(iteri, df = df, x = x):\n",
    "    plotx = df.iloc[iteri,0]\n",
    "    ploty = df.iloc[iteri,1]\n",
    "    plt.scatter(plotx, ploty, color='red')\n",
    "    #plt.plot(x, loss_function_exec(x))\n",
    "    \n",
    "print(df)"
   ]
  },
  {
   "cell_type": "code",
   "execution_count": 116,
   "metadata": {},
   "outputs": [
    {
     "data": {
      "text/plain": [
       "numpy.float64"
      ]
     },
     "execution_count": 116,
     "metadata": {},
     "output_type": "execute_result"
    }
   ],
   "source": [
    "interact(gra_dec_draw,iteri=(-45,45))#iteri = 100\n",
    "#plt.scatter(df.iloc[iteri,0],df.iloc[iteri,1], color='red')\n",
    "#type(df.iloc[iteri,1])\n",
    "#df.is.null"
   ]
  }
 ],
 "metadata": {
  "kernelspec": {
   "display_name": "Python 3",
   "language": "python",
   "name": "python3"
  },
  "language_info": {
   "codemirror_mode": {
    "name": "ipython",
    "version": 3
   },
   "file_extension": ".py",
   "mimetype": "text/x-python",
   "name": "python",
   "nbconvert_exporter": "python",
   "pygments_lexer": "ipython3",
   "version": "3.7.2"
  }
 },
 "nbformat": 4,
 "nbformat_minor": 2
}
