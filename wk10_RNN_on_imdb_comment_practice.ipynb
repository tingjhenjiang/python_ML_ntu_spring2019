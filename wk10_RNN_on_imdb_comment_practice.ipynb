{
  "nbformat": 4,
  "nbformat_minor": 0,
  "metadata": {
    "anaconda-cloud": {},
    "kernelspec": {
      "display_name": "Python 3",
      "language": "python",
      "name": "python3"
    },
    "language_info": {
      "codemirror_mode": {
        "name": "ipython",
        "version": 3
      },
      "file_extension": ".py",
      "mimetype": "text/x-python",
      "name": "python",
      "nbconvert_exporter": "python",
      "pygments_lexer": "ipython3",
      "version": "3.7.3"
    },
    "colab": {
      "name": "wk10_RNN_on_imdb_comment_practice.ipynb",
      "provenance": [],
      "include_colab_link": true
    },
    "accelerator": "GPU"
  },
  "cells": [
    {
      "cell_type": "markdown",
      "metadata": {
        "id": "view-in-github",
        "colab_type": "text"
      },
      "source": [
        "<a href=\"https://colab.research.google.com/github/tingjhenjiang/python_ML_ntu_spring2019/blob/master/wk10_RNN_on_imdb_comment_practice.ipynb\" target=\"_parent\"><img src=\"https://colab.research.google.com/assets/colab-badge.svg\" alt=\"Open In Colab\"/></a>"
      ]
    },
    {
      "cell_type": "markdown",
      "metadata": {
        "id": "wvTMQw5silNU"
      },
      "source": [
        "#Keras\n",
        "## 用RNN做情意分析"
      ]
    },
    {
      "cell_type": "code",
      "metadata": {
        "id": "2RfQXk4cilNV",
        "outputId": "399edd4a-570d-4279-9a57-f214b16efe26"
      },
      "source": [
        "%env KERAS_BACKEND=tensorflow"
      ],
      "execution_count": null,
      "outputs": [
        {
          "output_type": "stream",
          "text": [
            "env: KERAS_BACKEND=tensorflow\n"
          ],
          "name": "stdout"
        }
      ]
    },
    {
      "cell_type": "code",
      "metadata": {
        "id": "86jvwAW7ilNh"
      },
      "source": [
        "%matplotlib widget\n",
        "%matplotlib inline\n",
        "import numpy as np\n",
        "import matplotlib.pyplot as plt\n",
        "import pandas as pd"
      ],
      "execution_count": null,
      "outputs": []
    },
    {
      "cell_type": "code",
      "metadata": {
        "id": "d3ywpb8nilNs"
      },
      "source": [
        "from keras.models import Sequential\n",
        "from keras.layers import Dense, LSTM\n",
        "from keras.layers.embeddings import Embedding\n",
        "from keras.preprocessing import sequence\n",
        "from keras.callbacks import EarlyStopping, History\n",
        "from keras.datasets import imdb # 讀入 IMDB 電影數據庫\n",
        "#fix loading imdb dataset problem: https://stackoverflow.com/questions/55890813/how-to-fix-object-arrays-cannot-be-loaded-when-allow-pickle-false-for-imdb-loa"
      ],
      "execution_count": null,
      "outputs": []
    },
    {
      "cell_type": "code",
      "metadata": {
        "id": "W24K7ToeilNz"
      },
      "source": [
        "total_num_words = 10000 #自然語言處理領域的問題中決定要用到多少字\n",
        "(x_train, y_train), (x_test, y_test) = imdb.load_data(num_words=total_num_words)"
      ],
      "execution_count": null,
      "outputs": []
    },
    {
      "cell_type": "markdown",
      "metadata": {
        "id": "liLwZYVCilN3"
      },
      "source": [
        "### 送入神經網路的輸入處理\n",
        "\n",
        "老師建議：雖然 RNN 是可以處理不同長度的輸入, 在寫程式時還是要\n",
        "\n",
        "* 設輸入文字長度的上限\n",
        "* 把每段文字都弄成一樣長, 太短的後面補上 0"
      ]
    },
    {
      "cell_type": "code",
      "metadata": {
        "id": "uwuPKb2nilN5"
      },
      "source": [
        "#找出長度最長的影評\n",
        "vectorized_len = np.vectorize(len)\n",
        "length_of_each_comment = vectorized_len(x_train)\n",
        "pad_until_length = round(np.amax(length_of_each_comment)/8,0).astype(int)"
      ],
      "execution_count": null,
      "outputs": []
    },
    {
      "cell_type": "code",
      "metadata": {
        "id": "71V7SSgLilOB"
      },
      "source": [
        "x_train_ped = sequence.pad_sequences(x_train, maxlen=pad_until_length)\n",
        "x_test_ped = sequence.pad_sequences(x_test, maxlen=pad_until_length)"
      ],
      "execution_count": null,
      "outputs": []
    },
    {
      "cell_type": "markdown",
      "metadata": {
        "id": "-_-AtPcGilOF"
      },
      "source": [
        "## 決定神經網路架構\n",
        "\n",
        "* 將 10000 維的文字壓到 O 維 by \"word embedding\" ；避免用1-hot 處理 1 萬個字造成用 1 萬維的向量表示：浪費記憶空間\n",
        "* 然後用 O 個 LSTM\n",
        "* 最後一個 output, 直接用 sigmoid 送出"
      ]
    },
    {
      "cell_type": "code",
      "metadata": {
        "id": "w-uGrIODilOG",
        "outputId": "854d490a-6b04-4ad2-dbc9-525d40fe854e"
      },
      "source": [
        "model = Sequential()\n",
        "model.add(Embedding(total_num_words, 64)) #目標壓縮成多少維度\n",
        "model.add(LSTM(50)) #幾個神經元\n",
        "model.add(Dense(1, activation='sigmoid'))\n",
        "model.compile(loss='binary_crossentropy',\n",
        "            optimizer='adam',\n",
        "            metrics=['accuracy'])\n",
        "model.summary()"
      ],
      "execution_count": null,
      "outputs": [
        {
          "output_type": "stream",
          "text": [
            "_________________________________________________________________\n",
            "Layer (type)                 Output Shape              Param #   \n",
            "=================================================================\n",
            "embedding_3 (Embedding)      (None, None, 64)          640000    \n",
            "_________________________________________________________________\n",
            "lstm_3 (LSTM)                (None, 50)                23000     \n",
            "_________________________________________________________________\n",
            "dense_3 (Dense)              (None, 1)                 51        \n",
            "=================================================================\n",
            "Total params: 663,051\n",
            "Trainable params: 663,051\n",
            "Non-trainable params: 0\n",
            "_________________________________________________________________\n"
          ],
          "name": "stdout"
        }
      ]
    },
    {
      "cell_type": "code",
      "metadata": {
        "id": "yMIrMUYHilOJ",
        "outputId": "13f6079b-4e85-4ba4-9eee-c686dd25fd49"
      },
      "source": [
        "model.fit(x_train_ped, y_train,\n",
        "         batch_size=32,\n",
        "         epochs=3)"
      ],
      "execution_count": null,
      "outputs": [
        {
          "output_type": "stream",
          "text": [
            "Epoch 1/3\n",
            "25000/25000 [==============================] - 1099s 44ms/step - loss: 0.4376 - acc: 0.7954\n",
            "Epoch 2/3\n",
            "25000/25000 [==============================] - 1127s 45ms/step - loss: 0.2512 - acc: 0.9022\n",
            "Epoch 3/3\n",
            "25000/25000 [==============================] - 1553s 62ms/step - loss: 0.2031 - acc: 0.9242\n"
          ],
          "name": "stdout"
        },
        {
          "output_type": "execute_result",
          "data": {
            "text/plain": [
              "<keras.callbacks.History at 0x2092b4b3550>"
            ]
          },
          "metadata": {
            "tags": []
          },
          "execution_count": 56
        }
      ]
    },
    {
      "cell_type": "markdown",
      "metadata": {
        "id": "043jRXcDilOQ"
      },
      "source": [
        "## 檢視結果"
      ]
    },
    {
      "cell_type": "markdown",
      "metadata": {
        "id": "K8AxnBIBilOS"
      },
      "source": [
        "### 預測情形"
      ]
    },
    {
      "cell_type": "code",
      "metadata": {
        "id": "IPKEus63ilOS",
        "outputId": "e4aa7447-c2c7-4334-a5dd-28f37f30703b"
      },
      "source": [
        "score = model.evaluate(x_test_ped, y_test)"
      ],
      "execution_count": null,
      "outputs": [
        {
          "output_type": "stream",
          "text": [
            "25000/25000 [==============================] - 231s 9ms/step\n"
          ],
          "name": "stdout"
        }
      ]
    },
    {
      "cell_type": "code",
      "metadata": {
        "id": "MOR9x9afilOW",
        "outputId": "230ce7c4-61b7-4c7d-b343-6d94ae45d682"
      },
      "source": [
        "print('測試資料的 loss', score[0])\n",
        "print('測試資料的正確率', score[1])"
      ],
      "execution_count": null,
      "outputs": [
        {
          "output_type": "stream",
          "text": [
            "測試資料的 loss 0.8484413851189614\n",
            "測試資料的正確率 0.85104\n"
          ],
          "name": "stdout"
        }
      ]
    },
    {
      "cell_type": "code",
      "metadata": {
        "id": "EL898Ay9ilOa",
        "outputId": "5534b386-e3ad-4b26-d4c5-57037e4a9347"
      },
      "source": [
        "plt.plot(model.history[\"acc\"])\n",
        "plt.title(\"training accuracy\")\n",
        "plt.ylabel(\"accuracy\")\n",
        "plt.xlabel(\"epoch\")\n",
        "plt.show()"
      ],
      "execution_count": null,
      "outputs": [
        {
          "output_type": "error",
          "ename": "TypeError",
          "evalue": "'History' object is not subscriptable",
          "traceback": [
            "\u001b[1;31m---------------------------------------------------------------------------\u001b[0m",
            "\u001b[1;31mTypeError\u001b[0m                                 Traceback (most recent call last)",
            "\u001b[1;32m<ipython-input-64-80f78636af5d>\u001b[0m in \u001b[0;36m<module>\u001b[1;34m\u001b[0m\n\u001b[1;32m----> 1\u001b[1;33m \u001b[0mplt\u001b[0m\u001b[1;33m.\u001b[0m\u001b[0mplot\u001b[0m\u001b[1;33m(\u001b[0m\u001b[0mmodel\u001b[0m\u001b[1;33m.\u001b[0m\u001b[0mhistory\u001b[0m\u001b[1;33m[\u001b[0m\u001b[1;34m\"acc\"\u001b[0m\u001b[1;33m]\u001b[0m\u001b[1;33m)\u001b[0m\u001b[1;33m\u001b[0m\u001b[1;33m\u001b[0m\u001b[0m\n\u001b[0m\u001b[0;32m      2\u001b[0m \u001b[0mplt\u001b[0m\u001b[1;33m.\u001b[0m\u001b[0mtitle\u001b[0m\u001b[1;33m(\u001b[0m\u001b[1;34m\"training accuracy\"\u001b[0m\u001b[1;33m)\u001b[0m\u001b[1;33m\u001b[0m\u001b[1;33m\u001b[0m\u001b[0m\n\u001b[0;32m      3\u001b[0m \u001b[0mplt\u001b[0m\u001b[1;33m.\u001b[0m\u001b[0mylabel\u001b[0m\u001b[1;33m(\u001b[0m\u001b[1;34m\"accuracy\"\u001b[0m\u001b[1;33m)\u001b[0m\u001b[1;33m\u001b[0m\u001b[1;33m\u001b[0m\u001b[0m\n\u001b[0;32m      4\u001b[0m \u001b[0mplt\u001b[0m\u001b[1;33m.\u001b[0m\u001b[0mxlabel\u001b[0m\u001b[1;33m(\u001b[0m\u001b[1;34m\"epoch\"\u001b[0m\u001b[1;33m)\u001b[0m\u001b[1;33m\u001b[0m\u001b[1;33m\u001b[0m\u001b[0m\n\u001b[0;32m      5\u001b[0m \u001b[0mplt\u001b[0m\u001b[1;33m.\u001b[0m\u001b[0mshow\u001b[0m\u001b[1;33m(\u001b[0m\u001b[1;33m)\u001b[0m\u001b[1;33m\u001b[0m\u001b[1;33m\u001b[0m\u001b[0m\n",
            "\u001b[1;31mTypeError\u001b[0m: 'History' object is not subscriptable"
          ]
        }
      ]
    },
    {
      "cell_type": "code",
      "metadata": {
        "id": "EFaz2gUZilOi"
      },
      "source": [
        "plt.plot(model.history[\"val_acc\"],color=\"yellow\")\n",
        "plt.title(\"testing accuracy\")\n",
        "plt.ylabel(\"accuracy\")\n",
        "plt.xlabel(\"epoch\")\n",
        "plt.show()"
      ],
      "execution_count": null,
      "outputs": []
    },
    {
      "cell_type": "markdown",
      "metadata": {
        "id": "tDc1iqndilOo"
      },
      "source": [
        "### 原始評論"
      ]
    },
    {
      "cell_type": "code",
      "metadata": {
        "id": "qhjebBqeilOp"
      },
      "source": [
        "word_to_id = imdb.get_word_index()\n",
        "word_to_id={k:v for k,v in word_to_id.items()} #(v+3-1)\n",
        "word_to_id[\"<PAD>\"] = 0\n",
        "#word_to_id[\"<START>\"] = 1\n",
        "#word_to_id[\"<UNK>\"] = 2\n",
        "id_to_word = {value:key for key,value in word_to_id.items()}\n",
        "\n",
        "def translate_and_show_comment(comment_i, comments, dictionary):\n",
        "    print(' '.join(dictionary[id] for id in comments[comment_i] ))"
      ],
      "execution_count": null,
      "outputs": []
    },
    {
      "cell_type": "code",
      "metadata": {
        "id": "tWLuJrdeilOs",
        "outputId": "1ef0e3c1-82f2-4e70-823f-845f521cf974"
      },
      "source": [
        "#translate_and_show_comment(10,x_test,id_to_word)\n",
        "id_to_word[0]"
      ],
      "execution_count": null,
      "outputs": [
        {
          "output_type": "execute_result",
          "data": {
            "text/plain": [
              "'<PAD>'"
            ]
          },
          "metadata": {
            "tags": []
          },
          "execution_count": 40
        }
      ]
    },
    {
      "cell_type": "markdown",
      "metadata": {
        "id": "w85YM5tbilOz"
      },
      "source": [
        "## 儲存結果"
      ]
    },
    {
      "cell_type": "code",
      "metadata": {
        "id": "Q9SCfqZ7ilO1"
      },
      "source": [
        "modelfilename = 'wk10_RNN_model_for_imdb.h5'\n",
        "#model.save(modelfilename)\n",
        "from keras.models import load_model\n",
        "model = load_model(modelfilename)"
      ],
      "execution_count": null,
      "outputs": []
    },
    {
      "cell_type": "markdown",
      "metadata": {
        "id": "F6D3-koziuHq"
      },
      "source": [
        "# Keras in TF2.0"
      ]
    },
    {
      "cell_type": "code",
      "metadata": {
        "id": "Hok1H_Rvivnq"
      },
      "source": [
        "import numpy as np\n",
        "import pandas as pd\n",
        "import matplotlib.pyplot as plt\n",
        "import tensorflow as tf\n",
        "import functools"
      ],
      "execution_count": 1,
      "outputs": []
    },
    {
      "cell_type": "code",
      "metadata": {
        "id": "xX-kaVognY24"
      },
      "source": [
        "(x_train, y_train), (x_test, y_test) = tf.keras.datasets.imdb.load_data(\n",
        "    num_words=None, maxlen=None\n",
        "    #path='imdb.npz', skip_top=0, seed=113, start_char=1, oov_char=2, index_from=3, **kwargs,    \n",
        ")"
      ],
      "execution_count": 2,
      "outputs": []
    },
    {
      "cell_type": "code",
      "metadata": {
        "id": "TV6uzq5yv4SG",
        "outputId": "bd90fd76-6fd8-4dcb-b15f-c38ca8a1b02d",
        "colab": {
          "base_uri": "https://localhost:8080/",
          "height": 37
        }
      },
      "source": [
        "maxlen = max([len(x) for x in x_train])\n",
        "allcomments = [item for sublist in x_train for item in sublist] #functools.reduce(lambda sum, elem: set(sum).union(set(elem)), x_train, [])\n",
        "allcomments = np.sort(np.unique(np.asarray(allcomments)))\n",
        "num_words = allcomments[-1]+1\n",
        "#num_words = len(allcomments)\n",
        "print(num_words)"
      ],
      "execution_count": 3,
      "outputs": [
        {
          "output_type": "stream",
          "text": [
            "88587\n"
          ],
          "name": "stdout"
        }
      ]
    },
    {
      "cell_type": "code",
      "metadata": {
        "id": "m6YN38B8nmWy",
        "outputId": "4519e779-3b8c-404a-f81d-ceed25945a10",
        "colab": {
          "base_uri": "https://localhost:8080/",
          "height": 533
        }
      },
      "source": [
        "inputlayer = tf.keras.Input(\n",
        "    shape=(None,)\n",
        "    #, batch_size=None, name=None, dtype=None, sparse=False, tensor=None, ragged=False, **kwargs\n",
        ")\n",
        "embedlayer = tf.keras.layers.Embedding(\n",
        "    input_dim=num_words, output_dim=250, mask_zero = True\n",
        "    #, embeddings_initializer='uniform', embeddings_regularizer=None, activity_regularizer=None, embeddings_constraint=None, mask_zero=False, input_length=None, **kwargs\n",
        ")(inputlayer)\n",
        "lstmlayer = tf.keras.layers.LSTM(\n",
        "    units=20, activation='tanh'\n",
        "    #,recurrent_activation='sigmoid', use_bias=True, kernel_initializer='glorot_uniform', recurrent_initializer='orthogonal', bias_initializer='zeros', unit_forget_bias=True, kernel_regularizer=None,\n",
        "    #recurrent_regularizer=None, bias_regularizer=None, activity_regularizer=None, kernel_constraint=None, recurrent_constraint=None, bias_constraint=None, dropout=0.0, recurrent_dropout=0.0, implementation=2, return_sequences=False,\n",
        "    #return_state=False, go_backwards=False, stateful=False, time_major=False, unroll=False, **kwargs\n",
        ")(embedlayer)\n",
        "dropoutlayer = tf.keras.layers.Dropout(\n",
        "    rate=0.2\n",
        "    #, noise_shape=None, seed=None, **kwargs\n",
        ")(lstmlayer)\n",
        "outputlayer = tf.keras.layers.Dense(1, activation='sigmoid')(dropoutlayer)\n",
        "model = tf.keras.Model(inputs=inputlayer, outputs=outputlayer)\n",
        "model.compile(optimizer=tf.keras.optimizers.Adam(0.001),\n",
        "              loss=tf.keras.losses.BinaryCrossentropy(), #沒有to_categorical時可以用sparse_categorical_crossentropy\n",
        "              metrics=['accuracy'],\n",
        "              )\n",
        "#model.summary()\n",
        "tf.keras.utils.plot_model(\n",
        "    model, show_shapes=True, show_layer_names=True,\n",
        "    rankdir='TB', expand_nested=False, dpi=96\n",
        ")"
      ],
      "execution_count": 4,
      "outputs": [
        {
          "output_type": "execute_result",
          "data": {
            "image/png": "[encoded data removed]",
            "text/plain": [
              "<IPython.core.display.Image object>"
            ]
          },
          "metadata": {
            "tags": []
          },
          "execution_count": 4
        }
      ]
    },
    {
      "cell_type": "code",
      "metadata": {
        "id": "zPSgw3zarme6",
        "outputId": "30727209-abca-4ae1-c58e-f101d3e44198",
        "colab": {
          "base_uri": "https://localhost:8080/",
          "height": 194
        }
      },
      "source": [
        "x_training = tf.keras.preprocessing.sequence.pad_sequences(x_train, maxlen=maxlen) #np.asarray([np.asarray(x for x in x_train)])\n",
        "#x_training = [np.array(x) for x in x_train]\n",
        "#x_training = [x for x in x_train]\n",
        "#x_training = np.array(x_training)\n",
        "#x_training = np.array(x_train)#.astype(np.int32)\n",
        "#empty = np.ndarray(shape=(None,))\n",
        "x_training = tf.keras.preprocessing.sequence.pad_sequences(x_train, maxlen=maxlen) #np.asarray([np.asarray(x for x in x_test)])\n",
        "x_testing = tf.keras.preprocessing.sequence.pad_sequences(x_test, maxlen=maxlen) #np.asarray([np.asarray(x for x in x_test)])\n",
        "print(\"x_train[0] is {}\".format(x_train[0]))\n",
        "print(\"x_training[0] is {}\".format(x_training[0]))\n",
        "print(\"type(x_train[0]) is {}\".format(type(x_train[0])))\n",
        "print(\"type(x_training[0]) is {}\".format(type(x_training[0])))\n",
        "print(\"type(x_train) is {}\".format(type(x_train)))\n",
        "print(\"type(x_training) is {}\".format(type(x_training)))\n",
        "try:\n",
        "    print(\"x_training[0].dtype is {}\".format(x_training[0].dtype))\n",
        "    print(\"x_training.dtype is {}\".format(x_training.dtype))\n",
        "except:\n",
        "    pass"
      ],
      "execution_count": 5,
      "outputs": [
        {
          "output_type": "stream",
          "text": [
            "x_train[0] is [1, 14, 22, 16, 43, 530, 973, 1622, 1385, 65, 458, 4468, 66, 3941, 4, 173, 36, 256, 5, 25, 100, 43, 838, 112, 50, 670, 22665, 9, 35, 480, 284, 5, 150, 4, 172, 112, 167, 21631, 336, 385, 39, 4, 172, 4536, 1111, 17, 546, 38, 13, 447, 4, 192, 50, 16, 6, 147, 2025, 19, 14, 22, 4, 1920, 4613, 469, 4, 22, 71, 87, 12, 16, 43, 530, 38, 76, 15, 13, 1247, 4, 22, 17, 515, 17, 12, 16, 626, 18, 19193, 5, 62, 386, 12, 8, 316, 8, 106, 5, 4, 2223, 5244, 16, 480, 66, 3785, 33, 4, 130, 12, 16, 38, 619, 5, 25, 124, 51, 36, 135, 48, 25, 1415, 33, 6, 22, 12, 215, 28, 77, 52, 5, 14, 407, 16, 82, 10311, 8, 4, 107, 117, 5952, 15, 256, 4, 31050, 7, 3766, 5, 723, 36, 71, 43, 530, 476, 26, 400, 317, 46, 7, 4, 12118, 1029, 13, 104, 88, 4, 381, 15, 297, 98, 32, 2071, 56, 26, 141, 6, 194, 7486, 18, 4, 226, 22, 21, 134, 476, 26, 480, 5, 144, 30, 5535, 18, 51, 36, 28, 224, 92, 25, 104, 4, 226, 65, 16, 38, 1334, 88, 12, 16, 283, 5, 16, 4472, 113, 103, 32, 15, 16, 5345, 19, 178, 32]\n",
            "x_training[0] is [  0   0   0 ...  19 178  32]\n",
            "type(x_train[0]) is <class 'list'>\n",
            "type(x_training[0]) is <class 'numpy.ndarray'>\n",
            "type(x_train) is <class 'numpy.ndarray'>\n",
            "type(x_training) is <class 'numpy.ndarray'>\n",
            "x_training[0].dtype is int32\n",
            "x_training.dtype is int32\n"
          ],
          "name": "stdout"
        }
      ]
    },
    {
      "cell_type": "code",
      "metadata": {
        "id": "A1BfZmV20bS7",
        "outputId": "1eae7011-bdd6-450f-d5d0-b348202e2793",
        "colab": {
          "base_uri": "https://localhost:8080/",
          "height": 135
        }
      },
      "source": [
        "history = model.fit(x_training, y_train, batch_size=768, epochs=3, verbose=1, validation_data=(x_testing, y_test))#"
      ],
      "execution_count": 7,
      "outputs": [
        {
          "output_type": "stream",
          "text": [
            "Epoch 1/3\n",
            "33/33 [==============================] - 242s 7s/step - loss: 0.5876 - accuracy: 0.7297 - val_loss: 0.4537 - val_accuracy: 0.8123\n",
            "Epoch 2/3\n",
            "33/33 [==============================] - 243s 7s/step - loss: 0.3562 - accuracy: 0.8647 - val_loss: 0.3770 - val_accuracy: 0.8443\n",
            "Epoch 3/3\n",
            "33/33 [==============================] - 243s 7s/step - loss: 0.2826 - accuracy: 0.9010 - val_loss: 0.3858 - val_accuracy: 0.8469\n"
          ],
          "name": "stdout"
        }
      ]
    },
    {
      "cell_type": "code",
      "metadata": {
        "id": "EHCDLYSeMpCs",
        "outputId": "ea8f2e44-f14f-45e3-a5c1-402e442773ed",
        "colab": {
          "base_uri": "https://localhost:8080/",
          "height": 95
        }
      },
      "source": [
        "print(\"Evaluate on test data\")\n",
        "results = model.evaluate(x_testing, y_test, batch_size=512)\n",
        "print(\"test loss, test acc:\", results)\n",
        "predictions = model.predict(x_testing[:3])\n",
        "print(\"predictions shape:\", predictions.shape)"
      ],
      "execution_count": 10,
      "outputs": [
        {
          "output_type": "stream",
          "text": [
            "Evaluate on test data\n",
            "49/49 [==============================] - 33s 677ms/step - loss: 0.3858 - accuracy: 0.8469\n",
            "test loss, test acc: [0.3857516944408417, 0.8469200134277344]\n",
            "predictions shape: (3, 1)\n"
          ],
          "name": "stdout"
        }
      ]
    },
    {
      "cell_type": "code",
      "metadata": {
        "id": "zKRX5lioNe10",
        "outputId": "fa47116c-8892-4baf-d155-9094b7758fad",
        "colab": {
          "base_uri": "https://localhost:8080/",
          "height": 573
        }
      },
      "source": [
        "# summarize history for accuracy\n",
        "plt.plot(history.history['accuracy'])\n",
        "plt.plot(history.history['val_accuracy'])\n",
        "plt.title('model accuracy')\n",
        "plt.ylabel('accuracy')\n",
        "plt.xlabel('epoch')\n",
        "plt.legend(['train', 'test'], loc='upper left')\n",
        "plt.show()\n",
        "# summarize history for loss\n",
        "plt.plot(history.history['loss'])\n",
        "plt.plot(history.history['val_loss'])\n",
        "plt.title('model loss')\n",
        "plt.ylabel('loss')\n",
        "plt.xlabel('epoch')\n",
        "plt.legend(['train', 'test'], loc='upper left')\n",
        "plt.show()"
      ],
      "execution_count": 11,
      "outputs": [
        {
          "output_type": "display_data",
          "data": {
            "image/png": "[encoded data removed]",
            "text/plain": [
              "<Figure size 432x288 with 1 Axes>"
            ]
          },
          "metadata": {
            "tags": [],
            "needs_background": "light"
          }
        },
        {
          "output_type": "display_data",
          "data": {
            "image/png": "[encoded data removed]",
            "text/plain": [
              "<Figure size 432x288 with 1 Axes>"
            ]
          },
          "metadata": {
            "tags": [],
            "needs_background": "light"
          }
        }
      ]
    }
  ]
}