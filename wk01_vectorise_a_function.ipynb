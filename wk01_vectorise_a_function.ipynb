{
 "cells": [
  {
   "cell_type": "code",
   "execution_count": 24,
   "metadata": {
    "colab": {
     "base_uri": "https://localhost:8080/",
     "height": 85
    },
    "colab_type": "code",
    "executionInfo": {
     "elapsed": 750,
     "status": "ok",
     "timestamp": 1551340368342,
     "user": {
      "displayName": "D J",
      "photoUrl": "https://lh4.googleusercontent.com/-28SxFsjtUIk/AAAAAAAAAAI/AAAAAAAAAAA/9hexDA_2xqs/s64/photo.jpg",
      "userId": "02942110534509033997"
     },
     "user_tz": -480
    },
    "id": "VFL8-mmp8KC7",
    "outputId": "d466be1f-34b1-42d4-92c7-35aab2755c3d"
   },
   "outputs": [
    {
     "name": "stdout",
     "output_type": "stream",
     "text": [
      "直接運算時發生錯誤！\n",
      "[6, 7, 8, 9, 10, 11]\n",
      "[ 6  7  8  9 10 11]\n",
      "[ 6  7  8  9 10 11]\n"
     ]
    }
   ],
   "source": [
    "#目標是要得到相當於原list各元素加5的值的新list\n",
    "\n",
    "import numpy as np\n",
    "vector=[1,2,3,4,5,6]\n",
    "\n",
    "#直接運算作法\n",
    "try:\n",
    "  newvector=vector+5\n",
    "  print(newvector)\n",
    "except:\n",
    "  print(\"直接運算時發生錯誤！\") \n",
    "\n",
    "#傳統迴圈作法\n",
    "try:\n",
    "  newvector=list()\n",
    "  for num in vector:\n",
    "      newvector.append(num+5)\n",
    "  print(newvector)\n",
    "except:\n",
    "  print(\"迴圈運算發生錯誤！\") \n",
    "  \n",
    "#向量化運算方式1：將list物件轉為numpy.array物件後處理\n",
    "try:\n",
    "  newvector=np.asarray(vector)+5\n",
    "  print(newvector)\n",
    "except:\n",
    "  print(\"向量化運算發生錯誤！\") \n",
    "  \n",
    "#向量化運算方式2：使用向量化函數運算處理\n",
    "try:\n",
    "  def func_plusfive(a):\n",
    "    return a+5\n",
    "  vfunc = np.vectorize(func_plusfive)\n",
    "  newvector = vfunc(vector)\n",
    "  print(newvector)\n",
    "except:\n",
    "  print(\"使用向量化函數運算發生錯誤！\") \n",
    "\n",
    "#https://colab.research.google.com/drive/1KT09tvTBPPK-tLCdFGO9NgXM_do--knc#offline=true&sandboxMode=true"
   ]
  }
 ],
 "metadata": {
  "colab": {
   "collapsed_sections": [],
   "name": "wk1_Vectorise_A_Function",
   "provenance": [],
   "version": "0.3.2"
  },
  "kernelspec": {
   "display_name": "Python 3",
   "language": "python",
   "name": "python3"
  },
  "language_info": {
   "codemirror_mode": {
    "name": "ipython",
    "version": 3
   },
   "file_extension": ".py",
   "mimetype": "text/x-python",
   "name": "python",
   "nbconvert_exporter": "python",
   "pygments_lexer": "ipython3",
   "version": "3.7.3"
  }
 },
 "nbformat": 4,
 "nbformat_minor": 2
}
