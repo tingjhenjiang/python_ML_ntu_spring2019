{
 "cells": [
  {
   "cell_type": "code",
   "execution_count": 17,
   "metadata": {},
   "outputs": [],
   "source": [
    "%matplotlib inline\n",
    "import matplotlib.pyplot as plt\n",
    "import numpy as np\n",
    "import pandas as pd\n",
    "import datetime\n",
    "from wordcloud import WordCloud\n",
    "from ipywidgets import interact, interactive, fixed, interact_manual\n",
    "import urllib.request\n",
    "fontdata = urllib.request.urlopen('https://github.com/adobe-fonts/source-han-sans/raw/release/OTC/SourceHanSans-Light.ttc')  \n",
    "fontdata = fontdata.read()\n",
    "with open('SourceHanSans-Medium.ttc', 'wb') as f:  \n",
    "    f.write(fontdata)\n",
    "\n",
    "topics = [\n",
    "    [\"八仙塵爆\", \"參觀阿帕契事件\", \"楊又穎網路霸凌\", \"波卡風波\", \"課綱議題\", \"馬習會\", \"換柱\", \"復興空難\", \"高雄監獄挾持案\", \"不分區立委\"],\n",
    "    [\"里約奧運\",\"美國大選\",\"尼伯特颱風\",\"梅姬颱風\",\"台灣總統大選\",\"金鐘獎\",\"英國脫歐\",\"莫蘭蒂颱風\",\"南海仲裁\",\"一例一休\"],\n",
    "    [\"世大運\",\"寶可夢\",\"房思琪的初戀樂園\",\"颱風停班停課\",\"世界棒球經典賽\",\"機場捷運\",\"停電\",\"雲林燈會\",\"勒索病毒\",\"北韓\"],\n",
    "    [\"世足賽\",\"九合一選舉與公投\",\"地震\",\"颱風停班停課\",\"旅行青蛙\",\"亞運\",\"中華電信499\",\"台中花博\",\"蜂蜜檸檬\",\"普悠瑪翻車\"]\n",
    "    ]"
   ]
  },
  {
   "cell_type": "code",
   "execution_count": 25,
   "metadata": {
    "scrolled": false
   },
   "outputs": [],
   "source": [
    "def trendwordcloud(topics):\n",
    "    wholestr = \"\"\n",
    "    for i in range(0,len(topics)):\n",
    "        topic = topics[i] + \" \"\n",
    "        wholestr = wholestr + (topic*(20-2*i))\n",
    "    my_wordcloud = WordCloud(font_path=\"SourceHanSans-Medium.ttc\",width=1200,height=800,collocations=False).generate(wholestr)\n",
    "    plt.imshow(my_wordcloud, interpolation='bilinear')\n",
    "    plt.axis(\"off\")\n",
    "    plt.show()"
   ]
  },
  {
   "cell_type": "code",
   "execution_count": 26,
   "metadata": {},
   "outputs": [
    {
     "data": {
      "application/vnd.jupyter.widget-view+json": {
       "model_id": "f4bcee6578b747aa8cca5039822942d5",
       "version_major": 2,
       "version_minor": 0
      },
      "text/plain": [
       "interactive(children=(Dropdown(description='topics', options=(['八仙塵爆', '參觀阿帕契事件', '楊又穎網路霸凌', '波卡風波', '課綱議題', '…"
      ]
     },
     "metadata": {},
     "output_type": "display_data"
    },
    {
     "data": {
      "text/plain": [
       "<function __main__.trendwordcloud(topics)>"
      ]
     },
     "execution_count": 26,
     "metadata": {},
     "output_type": "execute_result"
    }
   ],
   "source": [
    "interact(trendwordcloud, topics=topics)"
   ]
  }
 ],
 "metadata": {
  "kernelspec": {
   "display_name": "Python 3",
   "language": "python",
   "name": "python3"
  },
  "language_info": {
   "codemirror_mode": {
    "name": "ipython",
    "version": 3
   },
   "file_extension": ".py",
   "mimetype": "text/x-python",
   "name": "python",
   "nbconvert_exporter": "python",
   "pygments_lexer": "ipython3",
   "version": "3.7.2"
  }
 },
 "nbformat": 4,
 "nbformat_minor": 2
}
