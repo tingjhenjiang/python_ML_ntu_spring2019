{
 "cells": [
  {
   "cell_type": "code",
   "execution_count": 194,
   "metadata": {},
   "outputs": [],
   "source": [
    "#實驗費、工讀費、研討會便當搜尋機\n",
    "from PttWebCrawler.crawler import *\n",
    "import re\n",
    "import facebook\n",
    "import requests\n",
    "import json\n",
    "import csv\n",
    "import pandas as pd\n",
    "import datetime\n",
    "import time\n",
    "import os\n",
    "from lxml import etree\n",
    "#from bs4 import BeautifulSoup\n",
    "def filter_lt(predicate, lt):\n",
    "    result = []\n",
    "    for ele in lt:\n",
    "        if predicate(ele):\n",
    "            result.append(ele)\n",
    "    return result\n",
    "ptt_ntu_board_firstpage = \"https://www.ptt.cc/bbs/NTU/index.html\"\n",
    "goods_keyword = '(.*便當|.*受試者|.*車馬費|.*禮券|.*贈送)'\n",
    "diff_time_to_now_in_secs_standard = 60*60*24"
   ]
  },
  {
   "cell_type": "code",
   "execution_count": 76,
   "metadata": {},
   "outputs": [
    {
     "name": "stdout",
     "output_type": "stream",
     "text": [
      "Processing index: 2553\n",
      "Processing article: M.1555127252.A.2AD\n",
      "Processing article: M.1555133931.A.99D\n",
      "Processing article: M.1555144733.A.05A\n",
      "Processing article: M.1555158533.A.046\n",
      "Processing article: M.1555169896.A.AD6\n",
      "Processing index: 2554\n",
      "Processing article: M.1555179499.A.C7A\n",
      "Processing article: M.1555208118.A.4C5\n",
      "Processing index: 2555\n",
      "Processing index: 2556\n",
      "Processing article: M.1555259399.A.7AE\n",
      "Processing article: M.1555293983.A.FFB\n",
      "Processing article: M.1555301768.A.B1A\n",
      "Processing article: M.1555306791.A.24E\n",
      "Processing article: M.1555307324.A.921\n",
      "Processing article: M.1555308932.A.936\n",
      "Processing article: M.1555313665.A.FED\n",
      "Processing article: M.1555314485.A.3DA\n",
      "Processing article: M.1555318020.A.7F4\n",
      "Processing article: M.1555319433.A.5AF\n",
      "Processing index: 2557\n",
      "Processing article: M.1555325571.A.EAF\n",
      "Processing article: M.1555382958.A.1C1\n",
      "Processing article: M.1555395081.A.DDF\n",
      "Processing article: M.1555404324.A.C17\n",
      "Processing article: M.1555409976.A.00A\n",
      "Processing article: M.1555410928.A.302\n",
      "Processing article: M.1555411979.A.F26\n",
      "Processing article: M.1555477722.A.755\n",
      "Processing article: M.1555486373.A.A48\n",
      "Processing article: M.1555495885.A.1FC\n",
      "Processing article: M.1555500014.A.B87\n",
      "Processing article: M.1555504984.A.FC9\n",
      "Processing article: M.1555507734.A.17D\n",
      "Processing article: M.1555509756.A.E86\n",
      "Processing article: M.1555542498.A.B9D\n",
      "Processing article: M.1555552287.A.39B\n",
      "Processing article: M.1555558464.A.CBD\n",
      "Processing article: M.1555563617.A.4D4\n",
      "Processing article: M.1555572488.A.BA4\n",
      "Processing article: M.1555590504.A.9FB\n",
      "Processing index: 2558\n",
      "Processing article: M.1555592082.A.AAD\n",
      "Processing article: M.1555598620.A.E48\n",
      "Processing article: M.1520087933.A.AD4\n",
      "Processing article: M.1527141216.A.C20\n",
      "Processing article: M.1553532424.A.28B\n",
      "Processing article: M.1554048016.A.3A3\n"
     ]
    }
   ],
   "source": [
    "r = requests.get(ptt_ntu_board_firstpage)\n",
    "html = etree.HTML(r.text)\n",
    "result = html.xpath('//*[@id=\"action-bar-container\"]/div/div[2]/a[2]/@href')\n",
    "newestpagei = int(re.sub(pattern=\"[a-zA-Z/.]+\",repl=\"\",string=result[0]))+1\n",
    "c = PttWebCrawler(as_lib=True)\n",
    "crawlpages = 5\n",
    "c.parse_articles(newestpagei-crawlpages, newestpagei, 'NTU')\n",
    "path_to_ptt_ntu_json_file = 'NTU-'+str(newestpagei-crawlpages)+\"-\"+str(newestpagei)+\".json\""
   ]
  },
  {
   "cell_type": "code",
   "execution_count": 180,
   "metadata": {},
   "outputs": [
    {
     "name": "stdout",
     "output_type": "stream",
     "text": [
      "2558\n",
      "NTU-2553-2558.json\n"
     ]
    }
   ],
   "source": [
    "print(newestpagei)\n",
    "print(path_to_ptt_ntu_json_file)\n",
    "with open(path_to_ptt_ntu_json_file , 'r') as reader:\n",
    "    freemeal = json.loads(reader.read())\n",
    "    freemeal = freemeal[\"articles\"]\n",
    "#os.remove(path_to_ptt_ntu_json_file)\n",
    "\n",
    "for jf_item_i in range(0,len(freemeal)) :\n",
    "    del freemeal[jf_item_i]['messages']\n",
    "    del freemeal[jf_item_i]['message_count']\n",
    "\n",
    "freemeal = pd.DataFrame.from_dict(freemeal)\n",
    "freemeal = freemeal[freemeal[\"date\"]!=\"\"]\n",
    "\n",
    "def convert_ptt_date_time(str):\n",
    "    lt = str.split(\" \")\n",
    "    weekd, month, monthd, time, year = (filter_lt(lambda ele: ele!=\"\", lt))\n",
    "    monthd = (monthd.zfill(2))\n",
    "    newdt = weekd+\"-\"+month+\"-\"+monthd+\"-\"+time+\"-\"+year\n",
    "    dt_object = datetime.datetime.strptime(newdt, '%a-%b-%d-%H:%M:%S-%Y')\n",
    "    return(dt_object)\n",
    "    #Thu Apr 18 20:54:40 2019\n",
    "    #en_US:%a %b %d %H:%M%S %Y\n",
    "freemeal = freemeal.assign(date_time=freemeal.loc[:,\"date\"].apply(convert_ptt_date_time))\n",
    "freemeal = freemeal[freemeal.article_title.str.match(goods_keyword) | freemeal.content.str.match('(.*便當|.*受試者|.*車馬費|.*禮券|.*贈送)')]\n",
    "freemeal = freemeal.assign(diffsec_to_now=freemeal.loc[:,\"date_time\"].apply(lambda diff: (datetime.datetime.now()-diff).total_seconds()))"
   ]
  },
  {
   "cell_type": "code",
   "execution_count": 199,
   "metadata": {},
   "outputs": [
    {
     "name": "stdout",
     "output_type": "stream",
     "text": [
      "there are free meals\n",
      "            article_id       article_title            author board  \\\n",
      "33  M.1555558464.A.CBD  [徵求] 台大腦心所徵求MRI受試者  Myscty (pumpkin)   NTU   \n",
      "\n",
      "                                              content  \\\n",
      "33  [email protected] (請勿寄站內信，謝謝) （實驗室電話：022312345...   \n",
      "\n",
      "                        date               ip  \\\n",
      "33  Thu Apr 18 11:34:22 2019  140.112.122.158   \n",
      "\n",
      "                                                  url           date_time  \\\n",
      "33  https://www.ptt.cc/bbs/NTU/M.1555558464.A.CBD.... 2019-04-18 11:34:22   \n",
      "\n",
      "    diffsec_to_now                                        fullcontent  \n",
      "33    50853.405392  article_id                                    ...  \n"
     ]
    }
   ],
   "source": [
    "timelyfreemeal = freemeal[freemeal.diffsec_to_now<diff_time_to_now_in_secs_standard]\n",
    "timelyfreemeal = timelyfreemeal.assign(fullcontent = timelyfreemeal.apply(lambda x: ''.join(str(x)), axis=1))\n",
    "if (timelyfreemeal.shape[0]==0):\n",
    "    print(\"there is no free meal\")\n",
    "    sys.exit()\n",
    "\n",
    "print(\"there are free meals\")\n",
    "print(timelyfreemeal)\n",
    "goods_message = (\"\\n============\\n\".join(timelyfreemeal.fullcontent))\n",
    "\n",
    "import smtplib\n",
    "from email.mime.text import MIMEText\n",
    "from email.header import Header\n",
    "server = smtplib.SMTP('smtps.ntu.edu.tw', 465)\n",
    "server.login(\"youremailusername\", \"password\")\n",
    "goods_message = \"\"\n",
    "message = MIMEText('免費好康通知'+goods_message, 'plain', 'utf-8')\n",
    "message['From'] = Header(\"通知人@ntu.edu.tw\", 'utf-8')\n",
    "message['To'] =  Header(\"受通報人@ntu.edu.tw\", 'utf-8')\n",
    " \n",
    "subject = '來自台大的好康通報！'\n",
    "message['Subject'] = Header(subject, 'utf-8')\n",
    "server.sendmail(message['From'], message['To'], message.as_string())"
   ]
  }
 ],
 "metadata": {
  "kernelspec": {
   "display_name": "Python 3",
   "language": "python",
   "name": "python3"
  },
  "language_info": {
   "codemirror_mode": {
    "name": "ipython",
    "version": 3
   },
   "file_extension": ".py",
   "mimetype": "text/x-python",
   "name": "python",
   "nbconvert_exporter": "python",
   "pygments_lexer": "ipython3",
   "version": "3.7.2"
  }
 },
 "nbformat": 4,
 "nbformat_minor": 2
}
