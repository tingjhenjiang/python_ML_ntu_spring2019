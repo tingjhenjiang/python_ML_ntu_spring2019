{
  "nbformat": 4,
  "nbformat_minor": 0,
  "metadata": {
    "kernelspec": {
      "display_name": "Python 3",
      "language": "python",
      "name": "python3"
    },
    "language_info": {
      "codemirror_mode": {
        "name": "ipython",
        "version": 3
      },
      "file_extension": ".py",
      "mimetype": "text/x-python",
      "name": "python",
      "nbconvert_exporter": "python",
      "pygments_lexer": "ipython3",
      "version": "3.7.3"
    },
    "colab": {
      "name": "wk08_functionAPI_practice.ipynb",
      "provenance": [],
      "include_colab_link": true
    },
    "accelerator": "GPU"
  },
  "cells": [
    {
      "cell_type": "markdown",
      "metadata": {
        "id": "view-in-github",
        "colab_type": "text"
      },
      "source": [
        "<a href=\"https://colab.research.google.com/github/tingjhenjiang/python_ML_ntu_spring2019/blob/master/wk08_functionAPI_practice.ipynb\" target=\"_parent\"><img src=\"https://colab.research.google.com/assets/colab-badge.svg\" alt=\"Open In Colab\"/></a>"
      ]
    },
    {
      "cell_type": "markdown",
      "metadata": {
        "id": "gQTXr98xGJOI"
      },
      "source": [
        "# Keras\n",
        "## 使用Functional API打造神經網路，記得加一些像是分岔的部分在你的模型結構中\n",
        "## 使用mnist 資料庫"
      ]
    },
    {
      "cell_type": "code",
      "metadata": {
        "id": "TpuTAwQmGJOL"
      },
      "source": [
        "%matplotlib widget\n",
        "%matplotlib inline\n",
        "import numpy as np\n",
        "import pandas as pd\n",
        "import matplotlib.pyplot as plt\n",
        "from keras.datasets import mnist\n",
        "from keras.utils import np_utils, plot_model\n",
        "from keras.layers import Dense, Activation, Dropout, Input, concatenate, add, Flatten\n",
        "from keras.optimizers import SGD\n",
        "from keras.callbacks import EarlyStopping, History\n",
        "from keras.models import Model\n",
        "import tensorflow as tf\n",
        "#tf.enable_eager_execution()"
      ],
      "execution_count": null,
      "outputs": []
    },
    {
      "cell_type": "code",
      "metadata": {
        "id": "sajYuwpSGJOU"
      },
      "source": [
        "(x_train,y_train),(x_test,y_test) = mnist.load_data()"
      ],
      "execution_count": null,
      "outputs": []
    },
    {
      "cell_type": "markdown",
      "metadata": {
        "id": "CIYCVCDwGJOd"
      },
      "source": [
        "# 檢查資料維度"
      ]
    },
    {
      "cell_type": "code",
      "metadata": {
        "id": "FG91bB-UGJOf",
        "outputId": "66aa048c-49a8-49ed-aafb-83040206cb77"
      },
      "source": [
        "print('The dimension is {0}, {1}, {2}, {3}.'.format(x_train.shape,y_train.shape,x_test.shape,y_test.shape))"
      ],
      "execution_count": null,
      "outputs": [
        {
          "output_type": "stream",
          "text": [
            "The dimension is (60000, 28, 28), (60000,), (10000, 28, 28), (10000,).\n"
          ],
          "name": "stdout"
        }
      ]
    },
    {
      "cell_type": "code",
      "metadata": {
        "id": "PKkyUhIhGJOs"
      },
      "source": [
        "x_train_t = x_train.reshape(60000, 28*28)\n",
        "x_test_t = x_test.reshape(10000, 28*28)\n",
        "x_train_t = (x_train_t - x_train_t.min()) / (x_train_t.max() - x_train_t.min())\n",
        "x_test_t = (x_test_t - x_test_t.min()) / (x_test_t.max() - x_test_t.min())\n",
        "y_train_t = np_utils.to_categorical(y_train, 10)\n",
        "y_test_t = np_utils.to_categorical(y_test, 10)"
      ],
      "execution_count": null,
      "outputs": []
    },
    {
      "cell_type": "code",
      "metadata": {
        "id": "rbMy13hnGJOy",
        "outputId": "6f008b75-c28c-460a-d625-d1c30b0be654"
      },
      "source": [
        "inputlayer = Input(shape=(28*28,))\n",
        "hiddenlayer_nodes1_1 = Dense(5, activation='relu')(inputlayer)\n",
        "hiddenlayer_nodes2_1 = Dense(5, activation='sigmoid')(inputlayer)\n",
        "hiddenlayer_nodes1_2 = Dense(10, activation='relu')(hiddenlayer_nodes1_1 )\n",
        "hiddenlayer_nodes2_2 = Dense(20, activation='sigmoid')(hiddenlayer_nodes2_1 )\n",
        "hiddenlayer_nodes1_3 = Dense(10, activation='relu')(hiddenlayer_nodes1_2 )\n",
        "hiddenlayer_nodes2_3 = Dense(20, activation='sigmoid')(hiddenlayer_nodes2_2 )\n",
        "hiddenlayer_nodes1_4 = Dense(10, activation='relu')(hiddenlayer_nodes1_3 )\n",
        "hiddenlayer_nodes2_4 = Dense(20, activation='sigmoid')(hiddenlayer_nodes2_3 )\n",
        "\n",
        "#hiddenlayer_nodes3_1 = Dense(5, activation='sigmoid')\n",
        "#hiddenlayer_nodes3_2 = Dense(20, activation='sigmoid')(hiddenlayer_nodes3_1 )\n",
        "\n",
        "merge = concatenate([hiddenlayer_nodes1_4, hiddenlayer_nodes2_4])\n",
        "outputlayer = Dense(10, activation='softmax')(merge)\n",
        "model = Model(inputs=[inputlayer], outputs=outputlayer)"
      ],
      "execution_count": null,
      "outputs": [
        {
          "output_type": "stream",
          "text": [
            "WARNING:tensorflow:From F:\\SecSoftware\\Anaconda3\\envs\\tensorflow-gpu\\lib\\site-packages\\tensorflow\\python\\framework\\op_def_library.py:263: colocate_with (from tensorflow.python.framework.ops) is deprecated and will be removed in a future version.\n",
            "Instructions for updating:\n",
            "Colocations handled automatically by placer.\n"
          ],
          "name": "stdout"
        }
      ]
    },
    {
      "cell_type": "code",
      "metadata": {
        "id": "ja6sWXPvGJO5",
        "outputId": "abe30d9e-f672-40e4-c63d-0b3247820f39"
      },
      "source": [
        "plot_model(model, to_file='wk8_functionapi_fractured_model.png', show_shapes=True)\n",
        "print(model.summary())"
      ],
      "execution_count": null,
      "outputs": [
        {
          "output_type": "stream",
          "text": [
            "__________________________________________________________________________________________________\n",
            "Layer (type)                    Output Shape         Param #     Connected to                     \n",
            "==================================================================================================\n",
            "input_1 (InputLayer)            (None, 784)          0                                            \n",
            "__________________________________________________________________________________________________\n",
            "dense_1 (Dense)                 (None, 5)            3925        input_1[0][0]                    \n",
            "__________________________________________________________________________________________________\n",
            "dense_2 (Dense)                 (None, 5)            3925        input_1[0][0]                    \n",
            "__________________________________________________________________________________________________\n",
            "dense_3 (Dense)                 (None, 10)           60          dense_1[0][0]                    \n",
            "__________________________________________________________________________________________________\n",
            "dense_4 (Dense)                 (None, 20)           120         dense_2[0][0]                    \n",
            "__________________________________________________________________________________________________\n",
            "dense_5 (Dense)                 (None, 10)           110         dense_3[0][0]                    \n",
            "__________________________________________________________________________________________________\n",
            "dense_6 (Dense)                 (None, 20)           420         dense_4[0][0]                    \n",
            "__________________________________________________________________________________________________\n",
            "dense_7 (Dense)                 (None, 10)           110         dense_5[0][0]                    \n",
            "__________________________________________________________________________________________________\n",
            "dense_8 (Dense)                 (None, 20)           420         dense_6[0][0]                    \n",
            "__________________________________________________________________________________________________\n",
            "concatenate_1 (Concatenate)     (None, 30)           0           dense_7[0][0]                    \n",
            "                                                                 dense_8[0][0]                    \n",
            "__________________________________________________________________________________________________\n",
            "dense_9 (Dense)                 (None, 10)           310         concatenate_1[0][0]              \n",
            "==================================================================================================\n",
            "Total params: 9,400\n",
            "Trainable params: 9,400\n",
            "Non-trainable params: 0\n",
            "__________________________________________________________________________________________________\n",
            "None\n"
          ],
          "name": "stdout"
        }
      ]
    },
    {
      "cell_type": "markdown",
      "metadata": {
        "id": "ykJ9ubABGJPA"
      },
      "source": [
        "# 模型流程圖\n",
        "<img src=\"https://github.com/tingjhenjiang/python_ML_ntu_spring2019/blob/master/wk8_functionapi_fractured_model.png?raw=1\">"
      ]
    },
    {
      "cell_type": "code",
      "metadata": {
        "id": "HCGArhD8GJPB",
        "outputId": "487d6226-430e-4f48-f17e-ab2b6dcbf805"
      },
      "source": [
        "model.compile(loss='categorical_crossentropy',optimizer=SGD(lr=0.087),metrics=['accuracy'])\n",
        "model_his = model.fit(x_train_t, y_train_t, batch_size=100, epochs=5)"
      ],
      "execution_count": null,
      "outputs": [
        {
          "output_type": "stream",
          "text": [
            "WARNING:tensorflow:From F:\\SecSoftware\\Anaconda3\\envs\\tensorflow-gpu\\lib\\site-packages\\tensorflow\\python\\ops\\math_ops.py:3066: to_int32 (from tensorflow.python.ops.math_ops) is deprecated and will be removed in a future version.\n",
            "Instructions for updating:\n",
            "Use tf.cast instead.\n",
            "Epoch 1/5\n",
            "60000/60000 [==============================] - 91s 2ms/step - loss: 1.2267 - acc: 0.5556\n",
            "Epoch 2/5\n",
            "60000/60000 [==============================] - 6s 98us/step - loss: 0.5874 - acc: 0.8156\n",
            "Epoch 3/5\n",
            "60000/60000 [==============================] - 6s 102us/step - loss: 0.4660 - acc: 0.8636\n",
            "Epoch 4/5\n",
            "60000/60000 [==============================] - 6s 99us/step - loss: 0.4297 - acc: 0.8741\n",
            "Epoch 5/5\n",
            "60000/60000 [==============================] - 7s 110us/step - loss: 0.4049 - acc: 0.8800\n"
          ],
          "name": "stdout"
        }
      ]
    },
    {
      "cell_type": "code",
      "metadata": {
        "id": "MSfqeZY2GJPF",
        "outputId": "4fe3ec9a-61be-4e0b-d6c5-d0907f62d003"
      },
      "source": [
        "plt.plot(model_his.history['acc'])\n",
        "plt.title('model accuracy')\n",
        "plt.ylabel('accuracy')\n",
        "plt.xlabel('epoch')\n",
        "plt.legend([\"accuracy\"],loc = \"best\")\n",
        "plt.show"
      ],
      "execution_count": null,
      "outputs": [
        {
          "output_type": "execute_result",
          "data": {
            "text/plain": [
              "<function matplotlib.pyplot.show(*args, **kw)>"
            ]
          },
          "metadata": {
            "tags": []
          },
          "execution_count": 15
        },
        {
          "output_type": "display_data",
          "data": {
            "image/png": "[encoded data removed]",
            "text/plain": [
              "<Figure size 432x288 with 1 Axes>"
            ]
          },
          "metadata": {
            "tags": [],
            "needs_background": "light"
          }
        }
      ]
    },
    {
      "cell_type": "markdown",
      "metadata": {
        "id": "vpn4RC0XGwAD"
      },
      "source": [
        "# Keras in TF2.0"
      ]
    },
    {
      "cell_type": "code",
      "metadata": {
        "id": "j_RgxvHCG07Z"
      },
      "source": [
        "import numpy as np\n",
        "import pandas as pd\n",
        "import matplotlib.pyplot as plt\n",
        "import tensorflow as tf\n",
        "\n",
        "def std_nparray(arr):\n",
        "    arr = (arr-arr.min())/(arr.max()-arr.min())\n",
        "    return(arr)\n",
        "\n",
        "def convert_for_softmax_output(arr):\n",
        "    return(tf.keras.utils.to_categorical(arr, num_classes=len(np.unique(arr)), dtype='float32'))"
      ],
      "execution_count": 1,
      "outputs": []
    },
    {
      "cell_type": "code",
      "metadata": {
        "id": "T3Vv79MQHN4_",
        "outputId": "004ea52f-9aaa-4117-eb88-d75f91f73412",
        "colab": {
          "base_uri": "https://localhost:8080/",
          "height": 235
        }
      },
      "source": [
        "(x_train, y_train), (x_test, y_test) = tf.keras.datasets.mnist.load_data()\n",
        "x_train = x_train.reshape(-1,784) #x_train.reshape(60000, 784)\n",
        "x_train = std_nparray(x_train)\n",
        "x_test = x_test.reshape(-1, 784)\n",
        "x_test = std_nparray(x_test)\n",
        "y_train=convert_for_softmax_output(y_train)  #也可以不轉換，但下面要用sparse_categorical_crossentropy\n",
        "y_test=convert_for_softmax_output(y_test)\n",
        "x_val = x_train[-10000:]\n",
        "y_val = y_train[-10000:]\n",
        "print(x_train.shape)\n",
        "print(x_train.dtype)\n",
        "print(y_train)\n",
        "print(y_train.shape)"
      ],
      "execution_count": 3,
      "outputs": [
        {
          "output_type": "stream",
          "text": [
            "Downloading data from https://storage.googleapis.com/tensorflow/tf-keras-datasets/mnist.npz\n",
            "11493376/11490434 [==============================] - 0s 0us/step\n",
            "(60000, 784)\n",
            "float64\n",
            "[[0. 0. 0. ... 0. 0. 0.]\n",
            " [1. 0. 0. ... 0. 0. 0.]\n",
            " [0. 0. 0. ... 0. 0. 0.]\n",
            " ...\n",
            " [0. 0. 0. ... 0. 0. 0.]\n",
            " [0. 0. 0. ... 0. 0. 0.]\n",
            " [0. 0. 0. ... 0. 1. 0.]]\n",
            "(60000, 10)\n"
          ],
          "name": "stdout"
        }
      ]
    },
    {
      "cell_type": "code",
      "metadata": {
        "id": "2cC1MxRrImlC",
        "outputId": "421716ce-d6db-4c07-f13f-28da813ad0ec",
        "colab": {
          "base_uri": "https://localhost:8080/",
          "height": 644
        }
      },
      "source": [
        "inputlayer = tf.keras.Input(shape=(784,))\n",
        "hiddenlayer_nodes1_1 = tf.keras.layers.Dense(64, activation='relu')(inputlayer)\n",
        "hiddenlayer_nodes2_1 = tf.keras.layers.Dense(64, activation='sigmoid')(inputlayer)\n",
        "hiddenlayer_nodes1_2 = tf.keras.layers.Dense(32, activation='relu')(hiddenlayer_nodes1_1)\n",
        "hiddenlayer_nodes2_2 = tf.keras.layers.Dense(32, activation='sigmoid')(hiddenlayer_nodes2_1)\n",
        "mergelayer = tf.keras.layers.concatenate([hiddenlayer_nodes1_2, hiddenlayer_nodes2_2])\n",
        "aftermerge_dropout = tf.keras.layers.Dropout(.2)(mergelayer)\n",
        "outputlayer = tf.keras.layers.Dense(10, activation='softmax')(aftermerge_dropout)\n",
        "model = tf.keras.Model(inputs=[inputlayer], outputs=outputlayer)\n",
        "\n",
        "model.compile(optimizer=tf.keras.optimizers.Adam(0.001),\n",
        "              loss='CategoricalCrossentropy', #沒有to_categorical時可以用sparse_categorical_crossentropy\n",
        "              metrics=['accuracy'],\n",
        "              )\n",
        "#model.summary()\n",
        "tf.keras.utils.plot_model(\n",
        "    model, show_shapes=True, show_layer_names=True,\n",
        "    rankdir='TB', expand_nested=False, dpi=96\n",
        ")"
      ],
      "execution_count": 7,
      "outputs": [
        {
          "output_type": "execute_result",
          "data": {
            "image/png": "[encoded data removed]",
            "text/plain": [
              "<IPython.core.display.Image object>"
            ]
          },
          "metadata": {
            "tags": []
          },
          "execution_count": 7
        }
      ]
    },
    {
      "cell_type": "code",
      "metadata": {
        "id": "uGop-_FTLamo"
      },
      "source": [
        "history = model.fit(x_train, y_train, batch_size=256, epochs=100, validation_split=0.3, verbose=0, validation_data=(x_val, y_val))"
      ],
      "execution_count": 8,
      "outputs": []
    },
    {
      "cell_type": "code",
      "metadata": {
        "id": "I04CnAT7PX8l",
        "outputId": "a4f5ebad-6ace-4795-8f04-1119b698d09d",
        "colab": {
          "base_uri": "https://localhost:8080/",
          "height": 1000
        }
      },
      "source": [
        "history.history"
      ],
      "execution_count": 10,
      "outputs": [
        {
          "output_type": "execute_result",
          "data": {
            "text/plain": [
              "{'accuracy': [0.760952353477478,\n",
              "  0.9017142653465271,\n",
              "  0.9248095154762268,\n",
              "  0.9388333559036255,\n",
              "  0.9472380876541138,\n",
              "  0.9534761905670166,\n",
              "  0.9575476050376892,\n",
              "  0.9629999995231628,\n",
              "  0.9664285778999329,\n",
              "  0.9682857394218445,\n",
              "  0.9719761610031128,\n",
              "  0.9730714559555054,\n",
              "  0.9751666784286499,\n",
              "  0.9769285917282104,\n",
              "  0.9781428575515747,\n",
              "  0.9794999957084656,\n",
              "  0.9815475940704346,\n",
              "  0.9830238223075867,\n",
              "  0.9839524030685425,\n",
              "  0.9843809604644775,\n",
              "  0.9859047532081604,\n",
              "  0.9868333339691162,\n",
              "  0.9865952134132385,\n",
              "  0.9875237941741943,\n",
              "  0.9877856969833374,\n",
              "  0.9887142777442932,\n",
              "  0.989809513092041,\n",
              "  0.9908333420753479,\n",
              "  0.9919523596763611,\n",
              "  0.9920714497566223,\n",
              "  0.9919047355651855,\n",
              "  0.9928333163261414,\n",
              "  0.992642879486084,\n",
              "  0.993238091468811,\n",
              "  0.9935476183891296,\n",
              "  0.9935238361358643,\n",
              "  0.9934523701667786,\n",
              "  0.9943095445632935,\n",
              "  0.9948809742927551,\n",
              "  0.9954761862754822,\n",
              "  0.9949761629104614,\n",
              "  0.993238091468811,\n",
              "  0.9958571195602417,\n",
              "  0.9955475926399231,\n",
              "  0.9964761734008789,\n",
              "  0.9963571429252625,\n",
              "  0.9957619309425354,\n",
              "  0.9958809614181519,\n",
              "  0.9958571195602417,\n",
              "  0.9958333373069763,\n",
              "  0.9959523677825928,\n",
              "  0.9969285726547241,\n",
              "  0.9969523549079895,\n",
              "  0.9965000152587891,\n",
              "  0.9972857236862183,\n",
              "  0.9970714449882507,\n",
              "  0.9976666569709778,\n",
              "  0.9972857236862183,\n",
              "  0.9970238208770752,\n",
              "  0.9972618818283081,\n",
              "  0.9974047541618347,\n",
              "  0.9969523549079895,\n",
              "  0.9980714321136475,\n",
              "  0.9968571662902832,\n",
              "  0.9979285597801208,\n",
              "  0.9977142810821533,\n",
              "  0.9976904988288879,\n",
              "  0.9982380867004395,\n",
              "  0.9976666569709778,\n",
              "  0.9979047775268555,\n",
              "  0.9974523782730103,\n",
              "  0.9971666932106018,\n",
              "  0.9980475902557373,\n",
              "  0.9981428384780884,\n",
              "  0.9982619285583496,\n",
              "  0.9978095293045044,\n",
              "  0.9983333349227905,\n",
              "  0.9982143044471741,\n",
              "  0.9969285726547241,\n",
              "  0.9977381229400635,\n",
              "  0.9981428384780884,\n",
              "  0.998452365398407,\n",
              "  0.9987618923187256,\n",
              "  0.9987381100654602,\n",
              "  0.9984285831451416,\n",
              "  0.9986428618431091,\n",
              "  0.998285710811615,\n",
              "  0.9978571534156799,\n",
              "  0.9986904859542847,\n",
              "  0.998119056224823,\n",
              "  0.9985238313674927,\n",
              "  0.998119056224823,\n",
              "  0.9969761967658997,\n",
              "  0.9984762072563171,\n",
              "  0.9986666440963745,\n",
              "  0.998619019985199,\n",
              "  0.9984762072563171,\n",
              "  0.9982143044471741,\n",
              "  0.9984999895095825,\n",
              "  0.9975237846374512],\n",
              " 'loss': [0.7972555160522461,\n",
              "  0.34055739641189575,\n",
              "  0.2596387565135956,\n",
              "  0.21276520192623138,\n",
              "  0.1813041716814041,\n",
              "  0.1576859951019287,\n",
              "  0.14223594963550568,\n",
              "  0.12477529793977737,\n",
              "  0.11317648738622665,\n",
              "  0.10426760464906693,\n",
              "  0.09453903883695602,\n",
              "  0.088589146733284,\n",
              "  0.08223456889390945,\n",
              "  0.07503025233745575,\n",
              "  0.07122893631458282,\n",
              "  0.06569208949804306,\n",
              "  0.06017709895968437,\n",
              "  0.05672946944832802,\n",
              "  0.05294892191886902,\n",
              "  0.05182286351919174,\n",
              "  0.04537356272339821,\n",
              "  0.044707730412483215,\n",
              "  0.04094937443733215,\n",
              "  0.03819211944937706,\n",
              "  0.03837614133954048,\n",
              "  0.03604257479310036,\n",
              "  0.03214241564273834,\n",
              "  0.030193429440259933,\n",
              "  0.0268250759691,\n",
              "  0.026151128113269806,\n",
              "  0.025538481771945953,\n",
              "  0.023924395442008972,\n",
              "  0.023771287873387337,\n",
              "  0.02221500128507614,\n",
              "  0.02047550491988659,\n",
              "  0.020848477259278297,\n",
              "  0.021929090842604637,\n",
              "  0.01832921989262104,\n",
              "  0.01741928793489933,\n",
              "  0.015048334375023842,\n",
              "  0.016014859080314636,\n",
              "  0.020627448335289955,\n",
              "  0.014201384037733078,\n",
              "  0.014003203250467777,\n",
              "  0.011931193061172962,\n",
              "  0.012255014851689339,\n",
              "  0.012884214520454407,\n",
              "  0.013146214187145233,\n",
              "  0.01244400069117546,\n",
              "  0.013685155659914017,\n",
              "  0.01221324410289526,\n",
              "  0.010070150718092918,\n",
              "  0.010237859562039375,\n",
              "  0.010791115462779999,\n",
              "  0.009234814904630184,\n",
              "  0.009887304157018661,\n",
              "  0.008328300900757313,\n",
              "  0.009545733220875263,\n",
              "  0.009472419507801533,\n",
              "  0.009381494484841824,\n",
              "  0.008445163257420063,\n",
              "  0.009247229434549809,\n",
              "  0.006799027789384127,\n",
              "  0.009996223263442516,\n",
              "  0.0068100374191999435,\n",
              "  0.007222630083560944,\n",
              "  0.006608977448195219,\n",
              "  0.0062853386625647545,\n",
              "  0.007100753951817751,\n",
              "  0.006827129516750574,\n",
              "  0.008073084056377411,\n",
              "  0.008906911127269268,\n",
              "  0.00647664163261652,\n",
              "  0.0059306384064257145,\n",
              "  0.0059117162600159645,\n",
              "  0.006734960712492466,\n",
              "  0.005408721975982189,\n",
              "  0.005956064444035292,\n",
              "  0.00928302388638258,\n",
              "  0.007166585884988308,\n",
              "  0.005999742541462183,\n",
              "  0.004696388263255358,\n",
              "  0.00412339810281992,\n",
              "  0.004037350416183472,\n",
              "  0.004954850766807795,\n",
              "  0.004614764824509621,\n",
              "  0.005601292941719294,\n",
              "  0.005925311241298914,\n",
              "  0.0045183561742305756,\n",
              "  0.005429927725344896,\n",
              "  0.004913932178169489,\n",
              "  0.005890571512281895,\n",
              "  0.009114840999245644,\n",
              "  0.005083633121103048,\n",
              "  0.004098567645996809,\n",
              "  0.0038759035523980856,\n",
              "  0.004675277508795261,\n",
              "  0.005232537630945444,\n",
              "  0.004435555078089237,\n",
              "  0.007073094602674246],\n",
              " 'val_accuracy': [0.9117222428321838,\n",
              "  0.9334999918937683,\n",
              "  0.9438333511352539,\n",
              "  0.949055552482605,\n",
              "  0.953499972820282,\n",
              "  0.9583333134651184,\n",
              "  0.9589999914169312,\n",
              "  0.9616110920906067,\n",
              "  0.9627222418785095,\n",
              "  0.9642778038978577,\n",
              "  0.9653333425521851,\n",
              "  0.9657777547836304,\n",
              "  0.9677222371101379,\n",
              "  0.9687222242355347,\n",
              "  0.9691666960716248,\n",
              "  0.9682777523994446,\n",
              "  0.968666672706604,\n",
              "  0.9701111316680908,\n",
              "  0.9704444408416748,\n",
              "  0.9704999923706055,\n",
              "  0.9704444408416748,\n",
              "  0.9700555801391602,\n",
              "  0.9710000157356262,\n",
              "  0.9706110954284668,\n",
              "  0.9702222347259521,\n",
              "  0.9708333611488342,\n",
              "  0.9706666469573975,\n",
              "  0.9717777967453003,\n",
              "  0.972611129283905,\n",
              "  0.9706666469573975,\n",
              "  0.9726666808128357,\n",
              "  0.972000002861023,\n",
              "  0.9707777500152588,\n",
              "  0.9723333120346069,\n",
              "  0.9722222089767456,\n",
              "  0.9717222452163696,\n",
              "  0.971666693687439,\n",
              "  0.971833348274231,\n",
              "  0.9730555415153503,\n",
              "  0.9732778072357178,\n",
              "  0.9719444513320923,\n",
              "  0.9721666574478149,\n",
              "  0.9722777605056763,\n",
              "  0.9712777733802795,\n",
              "  0.972611129283905,\n",
              "  0.9721111059188843,\n",
              "  0.972611129283905,\n",
              "  0.9713333249092102,\n",
              "  0.9722777605056763,\n",
              "  0.9721666574478149,\n",
              "  0.972611129283905,\n",
              "  0.973111093044281,\n",
              "  0.9739999771118164,\n",
              "  0.9743888974189758,\n",
              "  0.9738333225250244,\n",
              "  0.9707221984863281,\n",
              "  0.9733889102935791,\n",
              "  0.973111093044281,\n",
              "  0.9725555777549744,\n",
              "  0.9725555777549744,\n",
              "  0.9731666445732117,\n",
              "  0.9729999899864197,\n",
              "  0.9736666679382324,\n",
              "  0.9724444150924683,\n",
              "  0.9735000133514404,\n",
              "  0.9735000133514404,\n",
              "  0.9735000133514404,\n",
              "  0.9732778072357178,\n",
              "  0.9721111059188843,\n",
              "  0.9724444150924683,\n",
              "  0.9729999899864197,\n",
              "  0.9741666913032532,\n",
              "  0.9723333120346069,\n",
              "  0.972611129283905,\n",
              "  0.9721666574478149,\n",
              "  0.9715555310249329,\n",
              "  0.9735555648803711,\n",
              "  0.973111093044281,\n",
              "  0.9726666808128357,\n",
              "  0.9736111164093018,\n",
              "  0.9718888998031616,\n",
              "  0.972611129283905,\n",
              "  0.9721111059188843,\n",
              "  0.9733889102935791,\n",
              "  0.972944438457489,\n",
              "  0.9731666445732117,\n",
              "  0.9727222323417664,\n",
              "  0.9725555777549744,\n",
              "  0.9738888740539551,\n",
              "  0.9741666913032532,\n",
              "  0.9729999899864197,\n",
              "  0.9723888635635376,\n",
              "  0.9721666574478149,\n",
              "  0.972000002861023,\n",
              "  0.9725000262260437,\n",
              "  0.972944438457489,\n",
              "  0.972777783870697,\n",
              "  0.972944438457489,\n",
              "  0.9700000286102295,\n",
              "  0.9720555543899536],\n",
              " 'val_loss': [0.3136432468891144,\n",
              "  0.23371882736682892,\n",
              "  0.19547531008720398,\n",
              "  0.17212091386318207,\n",
              "  0.15514200925827026,\n",
              "  0.1411314606666565,\n",
              "  0.13531912863254547,\n",
              "  0.1247919350862503,\n",
              "  0.12329505383968353,\n",
              "  0.11890090256929398,\n",
              "  0.11543979495763779,\n",
              "  0.11330681294202805,\n",
              "  0.11218839883804321,\n",
              "  0.1104833334684372,\n",
              "  0.10983028262853622,\n",
              "  0.10812610387802124,\n",
              "  0.10798968374729156,\n",
              "  0.10572893172502518,\n",
              "  0.10536739975214005,\n",
              "  0.10476145893335342,\n",
              "  0.10632569342851639,\n",
              "  0.10753636062145233,\n",
              "  0.1070408746600151,\n",
              "  0.10788915306329727,\n",
              "  0.10993755608797073,\n",
              "  0.10725801438093185,\n",
              "  0.11084406077861786,\n",
              "  0.10862410068511963,\n",
              "  0.11004389077425003,\n",
              "  0.116800956428051,\n",
              "  0.11032019555568695,\n",
              "  0.11483368277549744,\n",
              "  0.11990321427583694,\n",
              "  0.11418097466230392,\n",
              "  0.12140543758869171,\n",
              "  0.12207827717065811,\n",
              "  0.12033504247665405,\n",
              "  0.12410201132297516,\n",
              "  0.11897444725036621,\n",
              "  0.11696379631757736,\n",
              "  0.12297801673412323,\n",
              "  0.12442385405302048,\n",
              "  0.1241467148065567,\n",
              "  0.13233765959739685,\n",
              "  0.12676632404327393,\n",
              "  0.1308281123638153,\n",
              "  0.13041919469833374,\n",
              "  0.13580895960330963,\n",
              "  0.13416844606399536,\n",
              "  0.13463327288627625,\n",
              "  0.1348053514957428,\n",
              "  0.13410398364067078,\n",
              "  0.12749828398227692,\n",
              "  0.13106484711170197,\n",
              "  0.13736405968666077,\n",
              "  0.1447463035583496,\n",
              "  0.13674089312553406,\n",
              "  0.1417945772409439,\n",
              "  0.1433793604373932,\n",
              "  0.14572980999946594,\n",
              "  0.14076708257198334,\n",
              "  0.13816924393177032,\n",
              "  0.151132732629776,\n",
              "  0.14650650322437286,\n",
              "  0.14399735629558563,\n",
              "  0.14526718854904175,\n",
              "  0.14995741844177246,\n",
              "  0.15082904696464539,\n",
              "  0.15822091698646545,\n",
              "  0.1623309850692749,\n",
              "  0.15535317361354828,\n",
              "  0.14100807905197144,\n",
              "  0.15746022760868073,\n",
              "  0.16168014705181122,\n",
              "  0.16186872124671936,\n",
              "  0.1603623926639557,\n",
              "  0.15427900850772858,\n",
              "  0.15370739996433258,\n",
              "  0.16056987643241882,\n",
              "  0.15282246470451355,\n",
              "  0.1659654676914215,\n",
              "  0.1649998426437378,\n",
              "  0.1658945232629776,\n",
              "  0.16440343856811523,\n",
              "  0.1659422665834427,\n",
              "  0.16282738745212555,\n",
              "  0.16794493794441223,\n",
              "  0.16474758088588715,\n",
              "  0.1708008497953415,\n",
              "  0.15827086567878723,\n",
              "  0.16746743023395538,\n",
              "  0.17949073016643524,\n",
              "  0.16946035623550415,\n",
              "  0.17544445395469666,\n",
              "  0.1678156852722168,\n",
              "  0.17469099164009094,\n",
              "  0.1760348081588745,\n",
              "  0.17596818506717682,\n",
              "  0.1840958148241043,\n",
              "  0.17767824232578278]}"
            ]
          },
          "metadata": {
            "tags": []
          },
          "execution_count": 10
        }
      ]
    },
    {
      "cell_type": "code",
      "metadata": {
        "id": "3GNXlVE4Pgpe",
        "outputId": "79bf0d8e-c14b-4b7a-988b-de6ee5a4c337",
        "colab": {
          "base_uri": "https://localhost:8080/",
          "height": 108
        }
      },
      "source": [
        "print(\"Evaluate on test data\")\n",
        "results = model.evaluate(x_test, y_test, batch_size=128)\n",
        "print(\"test loss, test acc:\", results)\n",
        "print(\"Generate predictions for 3 samples\")\n",
        "predictions = model.predict(x_test[:3])\n",
        "print(\"predictions shape:\", predictions.shape)\n",
        "#no dropout test loss, test acc: [0.13936419785022736, 0.9725000262260437]"
      ],
      "execution_count": 11,
      "outputs": [
        {
          "output_type": "stream",
          "text": [
            "Evaluate on test data\n",
            "79/79 [==============================] - 0s 2ms/step - loss: 0.1453 - accuracy: 0.9756\n",
            "test loss, test acc: [0.14527449011802673, 0.975600004196167]\n",
            "Generate predictions for 3 samples\n",
            "predictions shape: (3, 10)\n"
          ],
          "name": "stdout"
        }
      ]
    },
    {
      "cell_type": "code",
      "metadata": {
        "id": "XhlrzN1VGJPL",
        "outputId": "bd9040f3-b865-476e-9356-c44ca28bd673",
        "colab": {
          "base_uri": "https://localhost:8080/",
          "height": 573
        }
      },
      "source": [
        "# summarize history for accuracy\n",
        "plt.plot(history.history['accuracy'])\n",
        "plt.plot(history.history['val_accuracy'])\n",
        "plt.title('model accuracy')\n",
        "plt.ylabel('accuracy')\n",
        "plt.xlabel('epoch')\n",
        "plt.legend(['train', 'test'], loc='upper left')\n",
        "plt.show()\n",
        "# summarize history for loss\n",
        "plt.plot(history.history['loss'])\n",
        "plt.plot(history.history['val_loss'])\n",
        "plt.title('model loss')\n",
        "plt.ylabel('loss')\n",
        "plt.xlabel('epoch')\n",
        "plt.legend(['train', 'test'], loc='upper left')\n",
        "plt.show()"
      ],
      "execution_count": 12,
      "outputs": [
        {
          "output_type": "display_data",
          "data": {
            "image/png": "[encoded data removed]",
            "text/plain": [
              "<Figure size 432x288 with 1 Axes>"
            ]
          },
          "metadata": {
            "tags": [],
            "needs_background": "light"
          }
        },
        {
          "output_type": "display_data",
          "data": {
            "image/png": "[encoded data removed]",
            "text/plain": [
              "<Figure size 432x288 with 1 Axes>"
            ]
          },
          "metadata": {
            "tags": [],
            "needs_background": "light"
          }
        }
      ]
    }
  ]
}