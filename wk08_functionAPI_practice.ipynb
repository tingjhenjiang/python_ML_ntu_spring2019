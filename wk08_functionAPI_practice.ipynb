{
 "cells": [
  {
   "cell_type": "markdown",
   "metadata": {},
   "source": [
    "# 使用Functional API打造神經網路，記得加一些像是分岔的部分在你的模型結構中\n",
    "# 使用mnist 資料庫"
   ]
  },
  {
   "cell_type": "code",
   "execution_count": 1,
   "metadata": {},
   "outputs": [],
   "source": [
    "%matplotlib widget\n",
    "%matplotlib inline\n",
    "import numpy as np\n",
    "import pandas as pd\n",
    "import matplotlib.pyplot as plt\n",
    "from keras.datasets import mnist\n",
    "from keras.utils import np_utils, plot_model\n",
    "from keras.layers import Dense, Activation, Dropout, Input, concatenate, add, Flatten\n",
    "from keras.optimizers import SGD\n",
    "from keras.callbacks import EarlyStopping, History\n",
    "from keras.models import Model\n",
    "import tensorflow as tf\n",
    "#tf.enable_eager_execution()"
   ]
  },
  {
   "cell_type": "code",
   "execution_count": 2,
   "metadata": {},
   "outputs": [],
   "source": [
    "(x_train,y_train),(x_test,y_test) = mnist.load_data()"
   ]
  },
  {
   "cell_type": "markdown",
   "metadata": {},
   "source": [
    "# 檢查資料維度"
   ]
  },
  {
   "cell_type": "code",
   "execution_count": 3,
   "metadata": {},
   "outputs": [
    {
     "name": "stdout",
     "output_type": "stream",
     "text": [
      "The dimension is (60000, 28, 28), (60000,), (10000, 28, 28), (10000,).\n"
     ]
    }
   ],
   "source": [
    "print('The dimension is {0}, {1}, {2}, {3}.'.format(x_train.shape,y_train.shape,x_test.shape,y_test.shape))"
   ]
  },
  {
   "cell_type": "code",
   "execution_count": 12,
   "metadata": {},
   "outputs": [],
   "source": [
    "x_train_t = x_train.reshape(60000, 28*28)\n",
    "x_test_t = x_test.reshape(10000, 28*28)\n",
    "x_train_t = (x_train_t - x_train_t.min()) / (x_train_t.max() - x_train_t.min())\n",
    "x_test_t = (x_test_t - x_test_t.min()) / (x_test_t.max() - x_test_t.min())\n",
    "y_train_t = np_utils.to_categorical(y_train, 10)\n",
    "y_test_t = np_utils.to_categorical(y_test, 10)"
   ]
  },
  {
   "cell_type": "code",
   "execution_count": 5,
   "metadata": {},
   "outputs": [
    {
     "name": "stdout",
     "output_type": "stream",
     "text": [
      "WARNING:tensorflow:From F:\\SecSoftware\\Anaconda3\\envs\\tensorflow-gpu\\lib\\site-packages\\tensorflow\\python\\framework\\op_def_library.py:263: colocate_with (from tensorflow.python.framework.ops) is deprecated and will be removed in a future version.\n",
      "Instructions for updating:\n",
      "Colocations handled automatically by placer.\n"
     ]
    }
   ],
   "source": [
    "inputlayer = Input(shape=(28*28,))\n",
    "hiddenlayer_nodes1_1 = Dense(5, activation='relu')(inputlayer)\n",
    "hiddenlayer_nodes2_1 = Dense(5, activation='sigmoid')(inputlayer)\n",
    "hiddenlayer_nodes1_2 = Dense(10, activation='relu')(hiddenlayer_nodes1_1 )\n",
    "hiddenlayer_nodes2_2 = Dense(20, activation='sigmoid')(hiddenlayer_nodes2_1 )\n",
    "hiddenlayer_nodes1_3 = Dense(10, activation='relu')(hiddenlayer_nodes1_2 )\n",
    "hiddenlayer_nodes2_3 = Dense(20, activation='sigmoid')(hiddenlayer_nodes2_2 )\n",
    "hiddenlayer_nodes1_4 = Dense(10, activation='relu')(hiddenlayer_nodes1_3 )\n",
    "hiddenlayer_nodes2_4 = Dense(20, activation='sigmoid')(hiddenlayer_nodes2_3 )\n",
    "\n",
    "#hiddenlayer_nodes3_1 = Dense(5, activation='sigmoid')\n",
    "#hiddenlayer_nodes3_2 = Dense(20, activation='sigmoid')(hiddenlayer_nodes3_1 )\n",
    "\n",
    "merge = concatenate([hiddenlayer_nodes1_4, hiddenlayer_nodes2_4])\n",
    "outputlayer = Dense(10, activation='softmax')(merge)\n",
    "model = Model(inputs=[inputlayer], outputs=outputlayer)"
   ]
  },
  {
   "cell_type": "code",
   "execution_count": 16,
   "metadata": {},
   "outputs": [
    {
     "name": "stdout",
     "output_type": "stream",
     "text": [
      "__________________________________________________________________________________________________\n",
      "Layer (type)                    Output Shape         Param #     Connected to                     \n",
      "==================================================================================================\n",
      "input_1 (InputLayer)            (None, 784)          0                                            \n",
      "__________________________________________________________________________________________________\n",
      "dense_1 (Dense)                 (None, 5)            3925        input_1[0][0]                    \n",
      "__________________________________________________________________________________________________\n",
      "dense_2 (Dense)                 (None, 5)            3925        input_1[0][0]                    \n",
      "__________________________________________________________________________________________________\n",
      "dense_3 (Dense)                 (None, 10)           60          dense_1[0][0]                    \n",
      "__________________________________________________________________________________________________\n",
      "dense_4 (Dense)                 (None, 20)           120         dense_2[0][0]                    \n",
      "__________________________________________________________________________________________________\n",
      "dense_5 (Dense)                 (None, 10)           110         dense_3[0][0]                    \n",
      "__________________________________________________________________________________________________\n",
      "dense_6 (Dense)                 (None, 20)           420         dense_4[0][0]                    \n",
      "__________________________________________________________________________________________________\n",
      "dense_7 (Dense)                 (None, 10)           110         dense_5[0][0]                    \n",
      "__________________________________________________________________________________________________\n",
      "dense_8 (Dense)                 (None, 20)           420         dense_6[0][0]                    \n",
      "__________________________________________________________________________________________________\n",
      "concatenate_1 (Concatenate)     (None, 30)           0           dense_7[0][0]                    \n",
      "                                                                 dense_8[0][0]                    \n",
      "__________________________________________________________________________________________________\n",
      "dense_9 (Dense)                 (None, 10)           310         concatenate_1[0][0]              \n",
      "==================================================================================================\n",
      "Total params: 9,400\n",
      "Trainable params: 9,400\n",
      "Non-trainable params: 0\n",
      "__________________________________________________________________________________________________\n",
      "None\n"
     ]
    }
   ],
   "source": [
    "plot_model(model, to_file='wk8_functionapi_fractured_model.png', show_shapes=True)\n",
    "print(model.summary())"
   ]
  },
  {
   "cell_type": "markdown",
   "metadata": {},
   "source": [
    "# 模型流程圖\n",
    "<img src=\"wk8_functionapi_fractured_model.png\">"
   ]
  },
  {
   "cell_type": "code",
   "execution_count": 14,
   "metadata": {},
   "outputs": [
    {
     "name": "stdout",
     "output_type": "stream",
     "text": [
      "WARNING:tensorflow:From F:\\SecSoftware\\Anaconda3\\envs\\tensorflow-gpu\\lib\\site-packages\\tensorflow\\python\\ops\\math_ops.py:3066: to_int32 (from tensorflow.python.ops.math_ops) is deprecated and will be removed in a future version.\n",
      "Instructions for updating:\n",
      "Use tf.cast instead.\n",
      "Epoch 1/5\n",
      "60000/60000 [==============================] - 91s 2ms/step - loss: 1.2267 - acc: 0.5556\n",
      "Epoch 2/5\n",
      "60000/60000 [==============================] - 6s 98us/step - loss: 0.5874 - acc: 0.8156\n",
      "Epoch 3/5\n",
      "60000/60000 [==============================] - 6s 102us/step - loss: 0.4660 - acc: 0.8636\n",
      "Epoch 4/5\n",
      "60000/60000 [==============================] - 6s 99us/step - loss: 0.4297 - acc: 0.8741\n",
      "Epoch 5/5\n",
      "60000/60000 [==============================] - 7s 110us/step - loss: 0.4049 - acc: 0.8800\n"
     ]
    }
   ],
   "source": [
    "model.compile(loss='categorical_crossentropy',optimizer=SGD(lr=0.087),metrics=['accuracy'])\n",
    "model_his = model.fit(x_train_t, y_train_t, batch_size=100, epochs=5)"
   ]
  },
  {
   "cell_type": "code",
   "execution_count": 15,
   "metadata": {},
   "outputs": [
    {
     "data": {
      "text/plain": [
       "<function matplotlib.pyplot.show(*args, **kw)>"
      ]
     },
     "execution_count": 15,
     "metadata": {},
     "output_type": "execute_result"
    },
    {
     "data": {
      "image/png": "[encoded data removed]",
      "text/plain": [
       "<Figure size 432x288 with 1 Axes>"
      ]
     },
     "metadata": {
      "needs_background": "light"
     },
     "output_type": "display_data"
    }
   ],
   "source": [
    "plt.plot(model_his.history['acc'])\n",
    "plt.title('model accuracy')\n",
    "plt.ylabel('accuracy')\n",
    "plt.xlabel('epoch')\n",
    "plt.legend([\"accuracy\"],loc = \"best\")\n",
    "plt.show"
   ]
  },
  {
   "cell_type": "code",
   "execution_count": null,
   "metadata": {},
   "outputs": [],
   "source": []
  }
 ],
 "metadata": {
  "kernelspec": {
   "display_name": "Python 3",
   "language": "python",
   "name": "python3"
  },
  "language_info": {
   "codemirror_mode": {
    "name": "ipython",
    "version": 3
   },
   "file_extension": ".py",
   "mimetype": "text/x-python",
   "name": "python",
   "nbconvert_exporter": "python",
   "pygments_lexer": "ipython3",
   "version": "3.7.3"
  }
 },
 "nbformat": 4,
 "nbformat_minor": 2
}
